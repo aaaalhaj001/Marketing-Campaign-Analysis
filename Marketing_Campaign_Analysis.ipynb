{
  "cells": [
    {
      "cell_type": "markdown",
      "source": [
        "# **Abdulrahman Alhajj**\n",
        "\n",
        "---\n",
        "\n",
        "🟠 **Connect with me:**\n",
        "\n",
        "[![GitHub](https://img.shields.io/badge/GitHub-100000?style=for-the-badge&style=social&logo=github&logoColor=white)](https://github.com/aaaalhajoo1)\n",
        "[![Follow](https://img.shields.io/twitter/follow/aaaalhaj000?style=social)](https://www.twitter.com/aaaalhaj000)\n",
        "[![LinkedIn](https://img.shields.io/badge/LinkedIn-0077B5?style=for-the-badge&style=social&logo=linkedin&logoColor=white)](https://linkedin.com/in/abdulrahman-alhajj)\n",
        "[![Kaggle](https://img.shields.io/badge/Kaggle-20BEFF?style=for-the-badge&style=social&logo=Kaggle&logoColor=white)](https://www.kaggle.com/abdulrahmanahajj)\n",
        "\n",
        "---"
      ],
      "metadata": {
        "id": "A2ZJkn7dGFwG"
      },
      "id": "A2ZJkn7dGFwG"
    },
    {
      "cell_type": "markdown",
      "id": "a92b7cea",
      "metadata": {
        "papermill": {
          "duration": 0.013798,
          "end_time": "2023-07-13T21:03:05.564469",
          "exception": false,
          "start_time": "2023-07-13T21:03:05.550671",
          "status": "completed"
        },
        "tags": [],
        "id": "a92b7cea"
      },
      "source": [
        "##Project Explanation\n",
        "###Introduction\n",
        "In every data analysis project, we need a solid foundation to succeed. Such a foundation consists of specific steps that we need to perform necessary actions, gather the required information, and finally perform a well-structured and holistic data analysis.\n",
        "\n",
        "###Problem Identification/ Problem Statement\n",
        "In the first step, we should understand what exactly the problem is, which logic exists behind the problem, how it affects all the involved parties, and what clarified points of the main objective in the current data science project.\n",
        "\n",
        "The main idea of this project is to extract actionable insights from the given data of a company that improves its decision-making process. Furthermore, we want to provide the best possible predictive model for the marketing campaign of their new product which shows if a customer buys the new product or not and how much is the possibility of the purchase.\n",
        "\n",
        "###Data Description\n",
        "The provided data is split into two CSV files containing the training (train.csv), and the test data (test.csv). The training date set includes 31480 records, containing customer and operational features. Customer features cover master data of customers such as their age, gender, occupation, marital status, education level, and account balance, while operational features are related to the last campaign activities including the last campaign result, contact date, contact duration, etc. The test date set consists of 13732 samples containing all the provided features in training data except the target value. In general, we have 19 features and one target variable that should be predicted. These features can be described as follows:\n",
        "\n",
        "| Feature | Type | Description |\n",
        "|---|---|---|\n",
        "| id | Numerical | record ID |\n",
        "| target | Object | target value (customer response to the marketing campaign) |\n",
        "| day | Numerical | contact day in previous campaign |\n",
        "| month | Object | contact month in previous campaign |\n",
        "| duration | Numerical | contact duration in previous campaign |\n",
        "| contactId | Numerical | contact ID |\n",
        "| age | Numerical | age of the customer |\n",
        "| gender | Object | customer gender |\n",
        "| job | Object | customer occupation |\n",
        "| maritalStatus | Object | customer marital status |\n",
        "| education | Object | customer educational degree |\n",
        "| craditFailure | Object | if the customer has a default credit |\n",
        "| accountBalance | Numerical | customer account balance |\n",
        "| house | Object | if the customer owns a house |\n",
        "| credit | Object | if the customer has a credit |\n",
        "| contactType | Object | contact media |\n",
        "| numberOfContacts | Numerical | number of contacts during the current campaign |\n",
        "| daySinceLastCampaign | Numerical | days after the last contact of the previous campaign |\n",
        "| numberOfContactsLastCampaign | Numerical | number of contacts during the previous campaign |\n",
        "| lastCampaignResult | Object | result of the previous campaign |"
      ]
    },
    {
      "cell_type": "markdown",
      "id": "004ddab6",
      "metadata": {
        "papermill": {
          "duration": 0.01341,
          "end_time": "2023-07-13T21:03:05.591381",
          "exception": false,
          "start_time": "2023-07-13T21:03:05.577971",
          "status": "completed"
        },
        "tags": [],
        "id": "004ddab6"
      },
      "source": [
        "# **Load Necessary Libraries**"
      ]
    },
    {
      "cell_type": "code",
      "execution_count": null,
      "id": "9d4fae13",
      "metadata": {
        "execution": {
          "iopub.execute_input": "2023-07-13T21:03:05.621554Z",
          "iopub.status.busy": "2023-07-13T21:03:05.620691Z",
          "iopub.status.idle": "2023-07-13T21:03:07.373391Z",
          "shell.execute_reply": "2023-07-13T21:03:07.372292Z"
        },
        "id": "9d4fae13",
        "papermill": {
          "duration": 1.771473,
          "end_time": "2023-07-13T21:03:07.376186",
          "exception": false,
          "start_time": "2023-07-13T21:03:05.604713",
          "status": "completed"
        },
        "tags": []
      },
      "outputs": [],
      "source": [
        "#Libraries for Data cleaning and Data visualization\n",
        "import pandas as pd\n",
        "import numpy as np\n",
        "import matplotlib.pyplot as plt\n",
        "import seaborn as sns\n",
        "\n",
        "#Libraries for Data preprocessing\n",
        "from sklearn.preprocessing import OrdinalEncoder\n",
        "from sklearn.model_selection import train_test_split\n",
        "from sklearn.preprocessing import scale\n",
        "\n",
        "#Machine learning\n",
        "from sklearn.ensemble import RandomForestClassifier\n",
        "\n",
        "#Libraries for machine learning Metrics\n",
        "from sklearn.metrics import accuracy_score\n",
        "from sklearn.metrics import classification_report\n",
        "from sklearn.metrics import roc_curve,auc\n",
        "from sklearn.metrics import confusion_matrix, ConfusionMatrixDisplay\n",
        "\n",
        "\n"
      ]
    },
    {
      "cell_type": "markdown",
      "id": "076c7cff",
      "metadata": {
        "papermill": {
          "duration": 0.013434,
          "end_time": "2023-07-13T21:03:07.406778",
          "exception": false,
          "start_time": "2023-07-13T21:03:07.393344",
          "status": "completed"
        },
        "tags": [],
        "id": "076c7cff"
      },
      "source": [
        "# **EDA (Exploratory data analysis)**"
      ]
    },
    {
      "cell_type": "markdown",
      "id": "b0f63950",
      "metadata": {
        "papermill": {
          "duration": 0.013228,
          "end_time": "2023-07-13T21:03:07.435423",
          "exception": false,
          "start_time": "2023-07-13T21:03:07.422195",
          "status": "completed"
        },
        "tags": [],
        "id": "b0f63950"
      },
      "source": [
        "\n",
        "## **Exploratory our Data**"
      ]
    },
    {
      "cell_type": "code",
      "execution_count": null,
      "id": "b2d36979",
      "metadata": {
        "execution": {
          "iopub.execute_input": "2023-07-13T21:03:07.465002Z",
          "iopub.status.busy": "2023-07-13T21:03:07.464051Z",
          "iopub.status.idle": "2023-07-13T21:03:07.649111Z",
          "shell.execute_reply": "2023-07-13T21:03:07.648078Z"
        },
        "id": "b2d36979",
        "outputId": "46deabe3-bde8-4669-8680-6736c1bb69d1",
        "papermill": {
          "duration": 0.202703,
          "end_time": "2023-07-13T21:03:07.651344",
          "exception": false,
          "start_time": "2023-07-13T21:03:07.448641",
          "status": "completed"
        },
        "scrolled": true,
        "tags": [],
        "colab": {
          "base_uri": "https://localhost:8080/",
          "height": 226
        }
      },
      "outputs": [
        {
          "output_type": "execute_result",
          "data": {
            "text/plain": [
              "          id target  day month  duration  contactId  age  gender         job  \\\n",
              "0  432148809     no   27   may       166        623   30  female      worker   \n",
              "1  432184318     no   26   oct       183       1992   42  female     manager   \n",
              "2  432182482     no    5   jun       227       2778   26  female    services   \n",
              "3  432150520     no    2   jun        31       3070   34    male  unemployed   \n",
              "4  432145870     no   15   may      1231       6583   48    male      worker   \n",
              "\n",
              "  maritalStatus        education creditFailure  accountBalance house credit  \\\n",
              "0       married       highSchool            no            -202    no     no   \n",
              "1       married     uniGraduated            no            2463    no     no   \n",
              "2        single       highSchool            no            2158   yes    yes   \n",
              "3      divorced     uniGraduated           yes              75   yes     no   \n",
              "4       married  secondarySchool            no             559   yes     no   \n",
              "\n",
              "  contactType  numberOfContacts  daySinceLastCampaign  \\\n",
              "0     unknown                 2                   NaN   \n",
              "1   cellPhone                 2                   NaN   \n",
              "2    landline                 1                   NaN   \n",
              "3     unknown                 3                   NaN   \n",
              "4     unknown                 2                   NaN   \n",
              "\n",
              "   numberOfContactsLastCampaign lastCampaignResult  \n",
              "0                             0            unknown  \n",
              "1                             0            unknown  \n",
              "2                             0            unknown  \n",
              "3                             0            unknown  \n",
              "4                             0            unknown  "
            ],
            "text/html": [
              "\n",
              "  <div id=\"df-831c3117-7999-446d-a667-6dda296adfae\" class=\"colab-df-container\">\n",
              "    <div>\n",
              "<style scoped>\n",
              "    .dataframe tbody tr th:only-of-type {\n",
              "        vertical-align: middle;\n",
              "    }\n",
              "\n",
              "    .dataframe tbody tr th {\n",
              "        vertical-align: top;\n",
              "    }\n",
              "\n",
              "    .dataframe thead th {\n",
              "        text-align: right;\n",
              "    }\n",
              "</style>\n",
              "<table border=\"1\" class=\"dataframe\">\n",
              "  <thead>\n",
              "    <tr style=\"text-align: right;\">\n",
              "      <th></th>\n",
              "      <th>id</th>\n",
              "      <th>target</th>\n",
              "      <th>day</th>\n",
              "      <th>month</th>\n",
              "      <th>duration</th>\n",
              "      <th>contactId</th>\n",
              "      <th>age</th>\n",
              "      <th>gender</th>\n",
              "      <th>job</th>\n",
              "      <th>maritalStatus</th>\n",
              "      <th>education</th>\n",
              "      <th>creditFailure</th>\n",
              "      <th>accountBalance</th>\n",
              "      <th>house</th>\n",
              "      <th>credit</th>\n",
              "      <th>contactType</th>\n",
              "      <th>numberOfContacts</th>\n",
              "      <th>daySinceLastCampaign</th>\n",
              "      <th>numberOfContactsLastCampaign</th>\n",
              "      <th>lastCampaignResult</th>\n",
              "    </tr>\n",
              "  </thead>\n",
              "  <tbody>\n",
              "    <tr>\n",
              "      <th>0</th>\n",
              "      <td>432148809</td>\n",
              "      <td>no</td>\n",
              "      <td>27</td>\n",
              "      <td>may</td>\n",
              "      <td>166</td>\n",
              "      <td>623</td>\n",
              "      <td>30</td>\n",
              "      <td>female</td>\n",
              "      <td>worker</td>\n",
              "      <td>married</td>\n",
              "      <td>highSchool</td>\n",
              "      <td>no</td>\n",
              "      <td>-202</td>\n",
              "      <td>no</td>\n",
              "      <td>no</td>\n",
              "      <td>unknown</td>\n",
              "      <td>2</td>\n",
              "      <td>NaN</td>\n",
              "      <td>0</td>\n",
              "      <td>unknown</td>\n",
              "    </tr>\n",
              "    <tr>\n",
              "      <th>1</th>\n",
              "      <td>432184318</td>\n",
              "      <td>no</td>\n",
              "      <td>26</td>\n",
              "      <td>oct</td>\n",
              "      <td>183</td>\n",
              "      <td>1992</td>\n",
              "      <td>42</td>\n",
              "      <td>female</td>\n",
              "      <td>manager</td>\n",
              "      <td>married</td>\n",
              "      <td>uniGraduated</td>\n",
              "      <td>no</td>\n",
              "      <td>2463</td>\n",
              "      <td>no</td>\n",
              "      <td>no</td>\n",
              "      <td>cellPhone</td>\n",
              "      <td>2</td>\n",
              "      <td>NaN</td>\n",
              "      <td>0</td>\n",
              "      <td>unknown</td>\n",
              "    </tr>\n",
              "    <tr>\n",
              "      <th>2</th>\n",
              "      <td>432182482</td>\n",
              "      <td>no</td>\n",
              "      <td>5</td>\n",
              "      <td>jun</td>\n",
              "      <td>227</td>\n",
              "      <td>2778</td>\n",
              "      <td>26</td>\n",
              "      <td>female</td>\n",
              "      <td>services</td>\n",
              "      <td>single</td>\n",
              "      <td>highSchool</td>\n",
              "      <td>no</td>\n",
              "      <td>2158</td>\n",
              "      <td>yes</td>\n",
              "      <td>yes</td>\n",
              "      <td>landline</td>\n",
              "      <td>1</td>\n",
              "      <td>NaN</td>\n",
              "      <td>0</td>\n",
              "      <td>unknown</td>\n",
              "    </tr>\n",
              "    <tr>\n",
              "      <th>3</th>\n",
              "      <td>432150520</td>\n",
              "      <td>no</td>\n",
              "      <td>2</td>\n",
              "      <td>jun</td>\n",
              "      <td>31</td>\n",
              "      <td>3070</td>\n",
              "      <td>34</td>\n",
              "      <td>male</td>\n",
              "      <td>unemployed</td>\n",
              "      <td>divorced</td>\n",
              "      <td>uniGraduated</td>\n",
              "      <td>yes</td>\n",
              "      <td>75</td>\n",
              "      <td>yes</td>\n",
              "      <td>no</td>\n",
              "      <td>unknown</td>\n",
              "      <td>3</td>\n",
              "      <td>NaN</td>\n",
              "      <td>0</td>\n",
              "      <td>unknown</td>\n",
              "    </tr>\n",
              "    <tr>\n",
              "      <th>4</th>\n",
              "      <td>432145870</td>\n",
              "      <td>no</td>\n",
              "      <td>15</td>\n",
              "      <td>may</td>\n",
              "      <td>1231</td>\n",
              "      <td>6583</td>\n",
              "      <td>48</td>\n",
              "      <td>male</td>\n",
              "      <td>worker</td>\n",
              "      <td>married</td>\n",
              "      <td>secondarySchool</td>\n",
              "      <td>no</td>\n",
              "      <td>559</td>\n",
              "      <td>yes</td>\n",
              "      <td>no</td>\n",
              "      <td>unknown</td>\n",
              "      <td>2</td>\n",
              "      <td>NaN</td>\n",
              "      <td>0</td>\n",
              "      <td>unknown</td>\n",
              "    </tr>\n",
              "  </tbody>\n",
              "</table>\n",
              "</div>\n",
              "    <div class=\"colab-df-buttons\">\n",
              "\n",
              "  <div class=\"colab-df-container\">\n",
              "    <button class=\"colab-df-convert\" onclick=\"convertToInteractive('df-831c3117-7999-446d-a667-6dda296adfae')\"\n",
              "            title=\"Convert this dataframe to an interactive table.\"\n",
              "            style=\"display:none;\">\n",
              "\n",
              "  <svg xmlns=\"http://www.w3.org/2000/svg\" height=\"24px\" viewBox=\"0 -960 960 960\">\n",
              "    <path d=\"M120-120v-720h720v720H120Zm60-500h600v-160H180v160Zm220 220h160v-160H400v160Zm0 220h160v-160H400v160ZM180-400h160v-160H180v160Zm440 0h160v-160H620v160ZM180-180h160v-160H180v160Zm440 0h160v-160H620v160Z\"/>\n",
              "  </svg>\n",
              "    </button>\n",
              "\n",
              "  <style>\n",
              "    .colab-df-container {\n",
              "      display:flex;\n",
              "      gap: 12px;\n",
              "    }\n",
              "\n",
              "    .colab-df-convert {\n",
              "      background-color: #E8F0FE;\n",
              "      border: none;\n",
              "      border-radius: 50%;\n",
              "      cursor: pointer;\n",
              "      display: none;\n",
              "      fill: #1967D2;\n",
              "      height: 32px;\n",
              "      padding: 0 0 0 0;\n",
              "      width: 32px;\n",
              "    }\n",
              "\n",
              "    .colab-df-convert:hover {\n",
              "      background-color: #E2EBFA;\n",
              "      box-shadow: 0px 1px 2px rgba(60, 64, 67, 0.3), 0px 1px 3px 1px rgba(60, 64, 67, 0.15);\n",
              "      fill: #174EA6;\n",
              "    }\n",
              "\n",
              "    .colab-df-buttons div {\n",
              "      margin-bottom: 4px;\n",
              "    }\n",
              "\n",
              "    [theme=dark] .colab-df-convert {\n",
              "      background-color: #3B4455;\n",
              "      fill: #D2E3FC;\n",
              "    }\n",
              "\n",
              "    [theme=dark] .colab-df-convert:hover {\n",
              "      background-color: #434B5C;\n",
              "      box-shadow: 0px 1px 3px 1px rgba(0, 0, 0, 0.15);\n",
              "      filter: drop-shadow(0px 1px 2px rgba(0, 0, 0, 0.3));\n",
              "      fill: #FFFFFF;\n",
              "    }\n",
              "  </style>\n",
              "\n",
              "    <script>\n",
              "      const buttonEl =\n",
              "        document.querySelector('#df-831c3117-7999-446d-a667-6dda296adfae button.colab-df-convert');\n",
              "      buttonEl.style.display =\n",
              "        google.colab.kernel.accessAllowed ? 'block' : 'none';\n",
              "\n",
              "      async function convertToInteractive(key) {\n",
              "        const element = document.querySelector('#df-831c3117-7999-446d-a667-6dda296adfae');\n",
              "        const dataTable =\n",
              "          await google.colab.kernel.invokeFunction('convertToInteractive',\n",
              "                                                    [key], {});\n",
              "        if (!dataTable) return;\n",
              "\n",
              "        const docLinkHtml = 'Like what you see? Visit the ' +\n",
              "          '<a target=\"_blank\" href=https://colab.research.google.com/notebooks/data_table.ipynb>data table notebook</a>'\n",
              "          + ' to learn more about interactive tables.';\n",
              "        element.innerHTML = '';\n",
              "        dataTable['output_type'] = 'display_data';\n",
              "        await google.colab.output.renderOutput(dataTable, element);\n",
              "        const docLink = document.createElement('div');\n",
              "        docLink.innerHTML = docLinkHtml;\n",
              "        element.appendChild(docLink);\n",
              "      }\n",
              "    </script>\n",
              "  </div>\n",
              "\n",
              "\n",
              "<div id=\"df-fe97b5ef-e720-4c89-a377-18fa2f4d2d35\">\n",
              "  <button class=\"colab-df-quickchart\" onclick=\"quickchart('df-fe97b5ef-e720-4c89-a377-18fa2f4d2d35')\"\n",
              "            title=\"Suggest charts.\"\n",
              "            style=\"display:none;\">\n",
              "\n",
              "<svg xmlns=\"http://www.w3.org/2000/svg\" height=\"24px\"viewBox=\"0 0 24 24\"\n",
              "     width=\"24px\">\n",
              "    <g>\n",
              "        <path d=\"M19 3H5c-1.1 0-2 .9-2 2v14c0 1.1.9 2 2 2h14c1.1 0 2-.9 2-2V5c0-1.1-.9-2-2-2zM9 17H7v-7h2v7zm4 0h-2V7h2v10zm4 0h-2v-4h2v4z\"/>\n",
              "    </g>\n",
              "</svg>\n",
              "  </button>\n",
              "\n",
              "<style>\n",
              "  .colab-df-quickchart {\n",
              "      --bg-color: #E8F0FE;\n",
              "      --fill-color: #1967D2;\n",
              "      --hover-bg-color: #E2EBFA;\n",
              "      --hover-fill-color: #174EA6;\n",
              "      --disabled-fill-color: #AAA;\n",
              "      --disabled-bg-color: #DDD;\n",
              "  }\n",
              "\n",
              "  [theme=dark] .colab-df-quickchart {\n",
              "      --bg-color: #3B4455;\n",
              "      --fill-color: #D2E3FC;\n",
              "      --hover-bg-color: #434B5C;\n",
              "      --hover-fill-color: #FFFFFF;\n",
              "      --disabled-bg-color: #3B4455;\n",
              "      --disabled-fill-color: #666;\n",
              "  }\n",
              "\n",
              "  .colab-df-quickchart {\n",
              "    background-color: var(--bg-color);\n",
              "    border: none;\n",
              "    border-radius: 50%;\n",
              "    cursor: pointer;\n",
              "    display: none;\n",
              "    fill: var(--fill-color);\n",
              "    height: 32px;\n",
              "    padding: 0;\n",
              "    width: 32px;\n",
              "  }\n",
              "\n",
              "  .colab-df-quickchart:hover {\n",
              "    background-color: var(--hover-bg-color);\n",
              "    box-shadow: 0 1px 2px rgba(60, 64, 67, 0.3), 0 1px 3px 1px rgba(60, 64, 67, 0.15);\n",
              "    fill: var(--button-hover-fill-color);\n",
              "  }\n",
              "\n",
              "  .colab-df-quickchart-complete:disabled,\n",
              "  .colab-df-quickchart-complete:disabled:hover {\n",
              "    background-color: var(--disabled-bg-color);\n",
              "    fill: var(--disabled-fill-color);\n",
              "    box-shadow: none;\n",
              "  }\n",
              "\n",
              "  .colab-df-spinner {\n",
              "    border: 2px solid var(--fill-color);\n",
              "    border-color: transparent;\n",
              "    border-bottom-color: var(--fill-color);\n",
              "    animation:\n",
              "      spin 1s steps(1) infinite;\n",
              "  }\n",
              "\n",
              "  @keyframes spin {\n",
              "    0% {\n",
              "      border-color: transparent;\n",
              "      border-bottom-color: var(--fill-color);\n",
              "      border-left-color: var(--fill-color);\n",
              "    }\n",
              "    20% {\n",
              "      border-color: transparent;\n",
              "      border-left-color: var(--fill-color);\n",
              "      border-top-color: var(--fill-color);\n",
              "    }\n",
              "    30% {\n",
              "      border-color: transparent;\n",
              "      border-left-color: var(--fill-color);\n",
              "      border-top-color: var(--fill-color);\n",
              "      border-right-color: var(--fill-color);\n",
              "    }\n",
              "    40% {\n",
              "      border-color: transparent;\n",
              "      border-right-color: var(--fill-color);\n",
              "      border-top-color: var(--fill-color);\n",
              "    }\n",
              "    60% {\n",
              "      border-color: transparent;\n",
              "      border-right-color: var(--fill-color);\n",
              "    }\n",
              "    80% {\n",
              "      border-color: transparent;\n",
              "      border-right-color: var(--fill-color);\n",
              "      border-bottom-color: var(--fill-color);\n",
              "    }\n",
              "    90% {\n",
              "      border-color: transparent;\n",
              "      border-bottom-color: var(--fill-color);\n",
              "    }\n",
              "  }\n",
              "</style>\n",
              "\n",
              "  <script>\n",
              "    async function quickchart(key) {\n",
              "      const quickchartButtonEl =\n",
              "        document.querySelector('#' + key + ' button');\n",
              "      quickchartButtonEl.disabled = true;  // To prevent multiple clicks.\n",
              "      quickchartButtonEl.classList.add('colab-df-spinner');\n",
              "      try {\n",
              "        const charts = await google.colab.kernel.invokeFunction(\n",
              "            'suggestCharts', [key], {});\n",
              "      } catch (error) {\n",
              "        console.error('Error during call to suggestCharts:', error);\n",
              "      }\n",
              "      quickchartButtonEl.classList.remove('colab-df-spinner');\n",
              "      quickchartButtonEl.classList.add('colab-df-quickchart-complete');\n",
              "    }\n",
              "    (() => {\n",
              "      let quickchartButtonEl =\n",
              "        document.querySelector('#df-fe97b5ef-e720-4c89-a377-18fa2f4d2d35 button');\n",
              "      quickchartButtonEl.style.display =\n",
              "        google.colab.kernel.accessAllowed ? 'block' : 'none';\n",
              "    })();\n",
              "  </script>\n",
              "</div>\n",
              "    </div>\n",
              "  </div>\n"
            ]
          },
          "metadata": {},
          "execution_count": 115
        }
      ],
      "source": [
        "#Load data\n",
        "df=pd.read_csv(\"train.csv\")\n",
        "df.head()"
      ]
    },
    {
      "cell_type": "code",
      "execution_count": null,
      "id": "ba874769",
      "metadata": {
        "execution": {
          "iopub.execute_input": "2023-07-13T21:03:07.681120Z",
          "iopub.status.busy": "2023-07-13T21:03:07.680481Z",
          "iopub.status.idle": "2023-07-13T21:03:07.756360Z",
          "shell.execute_reply": "2023-07-13T21:03:07.754698Z"
        },
        "id": "ba874769",
        "papermill": {
          "duration": 0.093327,
          "end_time": "2023-07-13T21:03:07.758723",
          "exception": false,
          "start_time": "2023-07-13T21:03:07.665396",
          "status": "completed"
        },
        "tags": [],
        "outputId": "4bbcec6a-520b-44d8-8727-a8e2e03b0b3d",
        "colab": {
          "base_uri": "https://localhost:8080/"
        }
      },
      "outputs": [
        {
          "output_type": "stream",
          "name": "stdout",
          "text": [
            "<class 'pandas.core.frame.DataFrame'>\n",
            "RangeIndex: 31480 entries, 0 to 31479\n",
            "Data columns (total 20 columns):\n",
            " #   Column                        Non-Null Count  Dtype  \n",
            "---  ------                        --------------  -----  \n",
            " 0   id                            31480 non-null  int64  \n",
            " 1   target                        31480 non-null  object \n",
            " 2   day                           31480 non-null  int64  \n",
            " 3   month                         31480 non-null  object \n",
            " 4   duration                      31480 non-null  int64  \n",
            " 5   contactId                     31480 non-null  int64  \n",
            " 6   age                           31480 non-null  int64  \n",
            " 7   gender                        31480 non-null  object \n",
            " 8   job                           31480 non-null  object \n",
            " 9   maritalStatus                 31480 non-null  object \n",
            " 10  education                     31480 non-null  object \n",
            " 11  creditFailure                 31480 non-null  object \n",
            " 12  accountBalance                31480 non-null  int64  \n",
            " 13  house                         31480 non-null  object \n",
            " 14  credit                        31480 non-null  object \n",
            " 15  contactType                   31480 non-null  object \n",
            " 16  numberOfContacts              31480 non-null  int64  \n",
            " 17  daySinceLastCampaign          5738 non-null   float64\n",
            " 18  numberOfContactsLastCampaign  31480 non-null  int64  \n",
            " 19  lastCampaignResult            31480 non-null  object \n",
            "dtypes: float64(1), int64(8), object(11)\n",
            "memory usage: 4.8+ MB\n"
          ]
        }
      ],
      "source": [
        "#Show information in the dataset( name columns and not null and Dtypes)\n",
        "df.info()"
      ]
    },
    {
      "cell_type": "code",
      "execution_count": null,
      "id": "8771b93f",
      "metadata": {
        "execution": {
          "iopub.execute_input": "2023-07-13T21:03:07.790982Z",
          "iopub.status.busy": "2023-07-13T21:03:07.790105Z",
          "iopub.status.idle": "2023-07-13T21:03:07.855621Z",
          "shell.execute_reply": "2023-07-13T21:03:07.854513Z"
        },
        "papermill": {
          "duration": 0.083385,
          "end_time": "2023-07-13T21:03:07.858060",
          "exception": false,
          "start_time": "2023-07-13T21:03:07.774675",
          "status": "completed"
        },
        "tags": [],
        "id": "8771b93f",
        "outputId": "ced69b67-2e4f-470d-838f-ea1fcdbe0388",
        "colab": {
          "base_uri": "https://localhost:8080/"
        }
      },
      "outputs": [
        {
          "output_type": "execute_result",
          "data": {
            "text/plain": [
              "id                                  0\n",
              "target                              0\n",
              "day                                 0\n",
              "month                               0\n",
              "duration                            0\n",
              "contactId                           0\n",
              "age                                 0\n",
              "gender                              0\n",
              "job                                 0\n",
              "maritalStatus                       0\n",
              "education                           0\n",
              "creditFailure                       0\n",
              "accountBalance                      0\n",
              "house                               0\n",
              "credit                              0\n",
              "contactType                         0\n",
              "numberOfContacts                    0\n",
              "daySinceLastCampaign            25742\n",
              "numberOfContactsLastCampaign        0\n",
              "lastCampaignResult                  0\n",
              "dtype: int64"
            ]
          },
          "metadata": {},
          "execution_count": 118
        }
      ],
      "source": [
        "#Show all null  values\n",
        "df.isnull().sum()"
      ]
    },
    {
      "cell_type": "code",
      "execution_count": null,
      "id": "3db89c49",
      "metadata": {
        "execution": {
          "iopub.execute_input": "2023-07-13T21:03:07.927844Z",
          "iopub.status.busy": "2023-07-13T21:03:07.927240Z",
          "iopub.status.idle": "2023-07-13T21:03:07.942134Z",
          "shell.execute_reply": "2023-07-13T21:03:07.940974Z"
        },
        "id": "3db89c49",
        "outputId": "0984f68a-fcb3-421b-a11b-9117912df9f7",
        "papermill": {
          "duration": 0.032806,
          "end_time": "2023-07-13T21:03:07.944240",
          "exception": false,
          "start_time": "2023-07-13T21:03:07.911434",
          "status": "completed"
        },
        "tags": [],
        "colab": {
          "base_uri": "https://localhost:8080/"
        }
      },
      "outputs": [
        {
          "output_type": "stream",
          "name": "stderr",
          "text": [
            "<ipython-input-119-5f130e9a2ff7>:2: FutureWarning: The pandas.np module is deprecated and will be removed from pandas in a future version. Import numpy directly instead.\n",
            "  df.replace(\"unknown\",pd.np.nan,inplace=True)\n"
          ]
        }
      ],
      "source": [
        "#Replace unknown with null values\n",
        "df.replace(\"unknown\",pd.np.nan,inplace=True)"
      ]
    },
    {
      "cell_type": "code",
      "execution_count": null,
      "id": "8df830ec",
      "metadata": {
        "execution": {
          "iopub.execute_input": "2023-07-13T21:03:08.012839Z",
          "iopub.status.busy": "2023-07-13T21:03:08.012513Z",
          "iopub.status.idle": "2023-07-13T21:03:08.072659Z",
          "shell.execute_reply": "2023-07-13T21:03:08.071615Z"
        },
        "id": "8df830ec",
        "outputId": "e77f2bba-bc57-4cdb-8df6-61efcc9ff048",
        "papermill": {
          "duration": 0.078047,
          "end_time": "2023-07-13T21:03:08.074718",
          "exception": false,
          "start_time": "2023-07-13T21:03:07.996671",
          "status": "completed"
        },
        "tags": [],
        "colab": {
          "base_uri": "https://localhost:8080/"
        }
      },
      "outputs": [
        {
          "output_type": "execute_result",
          "data": {
            "text/plain": [
              "id                                  0\n",
              "target                              0\n",
              "day                                 0\n",
              "month                               0\n",
              "duration                            0\n",
              "contactId                           0\n",
              "age                                 0\n",
              "gender                              0\n",
              "job                               212\n",
              "maritalStatus                       0\n",
              "education                        1300\n",
              "creditFailure                       0\n",
              "accountBalance                      0\n",
              "house                               0\n",
              "credit                              0\n",
              "contactType                      9079\n",
              "numberOfContacts                    0\n",
              "daySinceLastCampaign            25742\n",
              "numberOfContactsLastCampaign        0\n",
              "lastCampaignResult              25746\n",
              "dtype: int64"
            ]
          },
          "metadata": {},
          "execution_count": 120
        }
      ],
      "source": [
        "#Show null values after unknown replacement with null values\n",
        "df.isnull().sum()"
      ]
    },
    {
      "cell_type": "code",
      "execution_count": null,
      "id": "7481d1c9",
      "metadata": {
        "execution": {
          "iopub.execute_input": "2023-07-13T21:03:07.889044Z",
          "iopub.status.busy": "2023-07-13T21:03:07.888053Z",
          "iopub.status.idle": "2023-07-13T21:03:07.895144Z",
          "shell.execute_reply": "2023-07-13T21:03:07.894281Z"
        },
        "id": "7481d1c9",
        "outputId": "2fc37156-02c7-4875-e56a-122ea596c9cc",
        "papermill": {
          "duration": 0.024362,
          "end_time": "2023-07-13T21:03:07.897059",
          "exception": false,
          "start_time": "2023-07-13T21:03:07.872697",
          "status": "completed"
        },
        "scrolled": true,
        "tags": [],
        "colab": {
          "base_uri": "https://localhost:8080/"
        }
      },
      "outputs": [
        {
          "output_type": "execute_result",
          "data": {
            "text/plain": [
              "Index(['id', 'target', 'day', 'month', 'duration', 'contactId', 'age',\n",
              "       'gender', 'job', 'maritalStatus', 'education', 'creditFailure',\n",
              "       'accountBalance', 'house', 'credit', 'contactType', 'numberOfContacts',\n",
              "       'daySinceLastCampaign', 'numberOfContactsLastCampaign',\n",
              "       'lastCampaignResult'],\n",
              "      dtype='object')"
            ]
          },
          "metadata": {},
          "execution_count": 121
        }
      ],
      "source": [
        "#Show name cloumns\n",
        "df.columns"
      ]
    },
    {
      "cell_type": "code",
      "execution_count": null,
      "id": "14a7776a",
      "metadata": {
        "execution": {
          "iopub.execute_input": "2023-07-13T21:03:07.974585Z",
          "iopub.status.busy": "2023-07-13T21:03:07.974198Z",
          "iopub.status.idle": "2023-07-13T21:03:07.979642Z",
          "shell.execute_reply": "2023-07-13T21:03:07.978683Z"
        },
        "id": "14a7776a",
        "outputId": "de346462-d2c0-42fe-b846-520f410fef78",
        "papermill": {
          "duration": 0.023299,
          "end_time": "2023-07-13T21:03:07.981917",
          "exception": false,
          "start_time": "2023-07-13T21:03:07.958618",
          "status": "completed"
        },
        "tags": [],
        "colab": {
          "base_uri": "https://localhost:8080/"
        }
      },
      "outputs": [
        {
          "output_type": "execute_result",
          "data": {
            "text/plain": [
              "(31480, 20)"
            ]
          },
          "metadata": {},
          "execution_count": 122
        }
      ],
      "source": [
        "#Dataset shape\n",
        "df.shape"
      ]
    },
    {
      "cell_type": "markdown",
      "id": "20d8da36",
      "metadata": {
        "papermill": {
          "duration": 0.014312,
          "end_time": "2023-07-13T21:03:08.103818",
          "exception": false,
          "start_time": "2023-07-13T21:03:08.089506",
          "status": "completed"
        },
        "tags": [],
        "id": "20d8da36"
      },
      "source": [
        "### **Replace month names with month numbers**\n",
        "Converting months from names to dates, such as January to 01, and so on ......\n"
      ]
    },
    {
      "cell_type": "code",
      "execution_count": null,
      "id": "01c171f8",
      "metadata": {
        "execution": {
          "iopub.execute_input": "2023-07-13T21:03:08.134427Z",
          "iopub.status.busy": "2023-07-13T21:03:08.134034Z",
          "iopub.status.idle": "2023-07-13T21:03:08.180166Z",
          "shell.execute_reply": "2023-07-13T21:03:08.179117Z"
        },
        "id": "01c171f8",
        "outputId": "0096fa84-cd4c-4617-f304-9e9c6c937b0f",
        "papermill": {
          "duration": 0.063888,
          "end_time": "2023-07-13T21:03:08.182177",
          "exception": false,
          "start_time": "2023-07-13T21:03:08.118289",
          "status": "completed"
        },
        "scrolled": true,
        "tags": [],
        "colab": {
          "base_uri": "https://localhost:8080/",
          "height": 443
        }
      },
      "outputs": [
        {
          "output_type": "execute_result",
          "data": {
            "text/plain": [
              "              id target  day month  duration  contactId  age  gender  \\\n",
              "0      432148809     no   27    05       166        623   30  female   \n",
              "1      432184318     no   26    10       183       1992   42  female   \n",
              "2      432182482     no    5    06       227       2778   26  female   \n",
              "3      432150520     no    2    06        31       3070   34    male   \n",
              "4      432145870     no   15    05      1231       6583   48    male   \n",
              "...          ...    ...  ...   ...       ...        ...  ...     ...   \n",
              "31475  432184725    yes   30    11      1628   69542367   58  female   \n",
              "31476  432147139     no   21    05       173   69542565   40  female   \n",
              "31477  432166958     no   17    11       422   69543453   51  female   \n",
              "31478  432166312     no   29    08        69   69544121   30    male   \n",
              "31479  432171709     no    2    02       171   69546604   50    male   \n",
              "\n",
              "              job maritalStatus        education creditFailure  \\\n",
              "0          worker       married       highSchool            no   \n",
              "1         manager       married     uniGraduated            no   \n",
              "2        services        single       highSchool            no   \n",
              "3      unemployed      divorced     uniGraduated           yes   \n",
              "4          worker       married  secondarySchool            no   \n",
              "...           ...           ...              ...           ...   \n",
              "31475   technical       married       highSchool            no   \n",
              "31476     manager        single  secondarySchool            no   \n",
              "31477      worker       married       highSchool            no   \n",
              "31478   technical       married     uniGraduated            no   \n",
              "31479   technical      divorced       highSchool            no   \n",
              "\n",
              "       accountBalance house credit contactType  numberOfContacts  \\\n",
              "0                -202    no     no         NaN                 2   \n",
              "1                2463    no     no   cellPhone                 2   \n",
              "2                2158   yes    yes    landline                 1   \n",
              "3                  75   yes     no         NaN                 3   \n",
              "4                 559   yes     no         NaN                 2   \n",
              "...               ...   ...    ...         ...               ...   \n",
              "31475            3399    no     no    landline                 2   \n",
              "31476             858   yes     no         NaN                 1   \n",
              "31477            1414   yes     no         NaN                 3   \n",
              "31478               1    no     no   cellPhone                21   \n",
              "31479               8    no     no   cellPhone                 2   \n",
              "\n",
              "       daySinceLastCampaign  numberOfContactsLastCampaign lastCampaignResult  \n",
              "0                       NaN                             0                NaN  \n",
              "1                       NaN                             0                NaN  \n",
              "2                       NaN                             0                NaN  \n",
              "3                       NaN                             0                NaN  \n",
              "4                       NaN                             0                NaN  \n",
              "...                     ...                           ...                ...  \n",
              "31475                 188.0                             8            success  \n",
              "31476                   NaN                             0                NaN  \n",
              "31477                 186.0                             2            failure  \n",
              "31478                   NaN                             0                NaN  \n",
              "31479                   5.0                             1              other  \n",
              "\n",
              "[31480 rows x 20 columns]"
            ],
            "text/html": [
              "\n",
              "  <div id=\"df-dc1b2cde-b2be-43f4-971e-87af35554a27\" class=\"colab-df-container\">\n",
              "    <div>\n",
              "<style scoped>\n",
              "    .dataframe tbody tr th:only-of-type {\n",
              "        vertical-align: middle;\n",
              "    }\n",
              "\n",
              "    .dataframe tbody tr th {\n",
              "        vertical-align: top;\n",
              "    }\n",
              "\n",
              "    .dataframe thead th {\n",
              "        text-align: right;\n",
              "    }\n",
              "</style>\n",
              "<table border=\"1\" class=\"dataframe\">\n",
              "  <thead>\n",
              "    <tr style=\"text-align: right;\">\n",
              "      <th></th>\n",
              "      <th>id</th>\n",
              "      <th>target</th>\n",
              "      <th>day</th>\n",
              "      <th>month</th>\n",
              "      <th>duration</th>\n",
              "      <th>contactId</th>\n",
              "      <th>age</th>\n",
              "      <th>gender</th>\n",
              "      <th>job</th>\n",
              "      <th>maritalStatus</th>\n",
              "      <th>education</th>\n",
              "      <th>creditFailure</th>\n",
              "      <th>accountBalance</th>\n",
              "      <th>house</th>\n",
              "      <th>credit</th>\n",
              "      <th>contactType</th>\n",
              "      <th>numberOfContacts</th>\n",
              "      <th>daySinceLastCampaign</th>\n",
              "      <th>numberOfContactsLastCampaign</th>\n",
              "      <th>lastCampaignResult</th>\n",
              "    </tr>\n",
              "  </thead>\n",
              "  <tbody>\n",
              "    <tr>\n",
              "      <th>0</th>\n",
              "      <td>432148809</td>\n",
              "      <td>no</td>\n",
              "      <td>27</td>\n",
              "      <td>05</td>\n",
              "      <td>166</td>\n",
              "      <td>623</td>\n",
              "      <td>30</td>\n",
              "      <td>female</td>\n",
              "      <td>worker</td>\n",
              "      <td>married</td>\n",
              "      <td>highSchool</td>\n",
              "      <td>no</td>\n",
              "      <td>-202</td>\n",
              "      <td>no</td>\n",
              "      <td>no</td>\n",
              "      <td>NaN</td>\n",
              "      <td>2</td>\n",
              "      <td>NaN</td>\n",
              "      <td>0</td>\n",
              "      <td>NaN</td>\n",
              "    </tr>\n",
              "    <tr>\n",
              "      <th>1</th>\n",
              "      <td>432184318</td>\n",
              "      <td>no</td>\n",
              "      <td>26</td>\n",
              "      <td>10</td>\n",
              "      <td>183</td>\n",
              "      <td>1992</td>\n",
              "      <td>42</td>\n",
              "      <td>female</td>\n",
              "      <td>manager</td>\n",
              "      <td>married</td>\n",
              "      <td>uniGraduated</td>\n",
              "      <td>no</td>\n",
              "      <td>2463</td>\n",
              "      <td>no</td>\n",
              "      <td>no</td>\n",
              "      <td>cellPhone</td>\n",
              "      <td>2</td>\n",
              "      <td>NaN</td>\n",
              "      <td>0</td>\n",
              "      <td>NaN</td>\n",
              "    </tr>\n",
              "    <tr>\n",
              "      <th>2</th>\n",
              "      <td>432182482</td>\n",
              "      <td>no</td>\n",
              "      <td>5</td>\n",
              "      <td>06</td>\n",
              "      <td>227</td>\n",
              "      <td>2778</td>\n",
              "      <td>26</td>\n",
              "      <td>female</td>\n",
              "      <td>services</td>\n",
              "      <td>single</td>\n",
              "      <td>highSchool</td>\n",
              "      <td>no</td>\n",
              "      <td>2158</td>\n",
              "      <td>yes</td>\n",
              "      <td>yes</td>\n",
              "      <td>landline</td>\n",
              "      <td>1</td>\n",
              "      <td>NaN</td>\n",
              "      <td>0</td>\n",
              "      <td>NaN</td>\n",
              "    </tr>\n",
              "    <tr>\n",
              "      <th>3</th>\n",
              "      <td>432150520</td>\n",
              "      <td>no</td>\n",
              "      <td>2</td>\n",
              "      <td>06</td>\n",
              "      <td>31</td>\n",
              "      <td>3070</td>\n",
              "      <td>34</td>\n",
              "      <td>male</td>\n",
              "      <td>unemployed</td>\n",
              "      <td>divorced</td>\n",
              "      <td>uniGraduated</td>\n",
              "      <td>yes</td>\n",
              "      <td>75</td>\n",
              "      <td>yes</td>\n",
              "      <td>no</td>\n",
              "      <td>NaN</td>\n",
              "      <td>3</td>\n",
              "      <td>NaN</td>\n",
              "      <td>0</td>\n",
              "      <td>NaN</td>\n",
              "    </tr>\n",
              "    <tr>\n",
              "      <th>4</th>\n",
              "      <td>432145870</td>\n",
              "      <td>no</td>\n",
              "      <td>15</td>\n",
              "      <td>05</td>\n",
              "      <td>1231</td>\n",
              "      <td>6583</td>\n",
              "      <td>48</td>\n",
              "      <td>male</td>\n",
              "      <td>worker</td>\n",
              "      <td>married</td>\n",
              "      <td>secondarySchool</td>\n",
              "      <td>no</td>\n",
              "      <td>559</td>\n",
              "      <td>yes</td>\n",
              "      <td>no</td>\n",
              "      <td>NaN</td>\n",
              "      <td>2</td>\n",
              "      <td>NaN</td>\n",
              "      <td>0</td>\n",
              "      <td>NaN</td>\n",
              "    </tr>\n",
              "    <tr>\n",
              "      <th>...</th>\n",
              "      <td>...</td>\n",
              "      <td>...</td>\n",
              "      <td>...</td>\n",
              "      <td>...</td>\n",
              "      <td>...</td>\n",
              "      <td>...</td>\n",
              "      <td>...</td>\n",
              "      <td>...</td>\n",
              "      <td>...</td>\n",
              "      <td>...</td>\n",
              "      <td>...</td>\n",
              "      <td>...</td>\n",
              "      <td>...</td>\n",
              "      <td>...</td>\n",
              "      <td>...</td>\n",
              "      <td>...</td>\n",
              "      <td>...</td>\n",
              "      <td>...</td>\n",
              "      <td>...</td>\n",
              "      <td>...</td>\n",
              "    </tr>\n",
              "    <tr>\n",
              "      <th>31475</th>\n",
              "      <td>432184725</td>\n",
              "      <td>yes</td>\n",
              "      <td>30</td>\n",
              "      <td>11</td>\n",
              "      <td>1628</td>\n",
              "      <td>69542367</td>\n",
              "      <td>58</td>\n",
              "      <td>female</td>\n",
              "      <td>technical</td>\n",
              "      <td>married</td>\n",
              "      <td>highSchool</td>\n",
              "      <td>no</td>\n",
              "      <td>3399</td>\n",
              "      <td>no</td>\n",
              "      <td>no</td>\n",
              "      <td>landline</td>\n",
              "      <td>2</td>\n",
              "      <td>188.0</td>\n",
              "      <td>8</td>\n",
              "      <td>success</td>\n",
              "    </tr>\n",
              "    <tr>\n",
              "      <th>31476</th>\n",
              "      <td>432147139</td>\n",
              "      <td>no</td>\n",
              "      <td>21</td>\n",
              "      <td>05</td>\n",
              "      <td>173</td>\n",
              "      <td>69542565</td>\n",
              "      <td>40</td>\n",
              "      <td>female</td>\n",
              "      <td>manager</td>\n",
              "      <td>single</td>\n",
              "      <td>secondarySchool</td>\n",
              "      <td>no</td>\n",
              "      <td>858</td>\n",
              "      <td>yes</td>\n",
              "      <td>no</td>\n",
              "      <td>NaN</td>\n",
              "      <td>1</td>\n",
              "      <td>NaN</td>\n",
              "      <td>0</td>\n",
              "      <td>NaN</td>\n",
              "    </tr>\n",
              "    <tr>\n",
              "      <th>31477</th>\n",
              "      <td>432166958</td>\n",
              "      <td>no</td>\n",
              "      <td>17</td>\n",
              "      <td>11</td>\n",
              "      <td>422</td>\n",
              "      <td>69543453</td>\n",
              "      <td>51</td>\n",
              "      <td>female</td>\n",
              "      <td>worker</td>\n",
              "      <td>married</td>\n",
              "      <td>highSchool</td>\n",
              "      <td>no</td>\n",
              "      <td>1414</td>\n",
              "      <td>yes</td>\n",
              "      <td>no</td>\n",
              "      <td>NaN</td>\n",
              "      <td>3</td>\n",
              "      <td>186.0</td>\n",
              "      <td>2</td>\n",
              "      <td>failure</td>\n",
              "    </tr>\n",
              "    <tr>\n",
              "      <th>31478</th>\n",
              "      <td>432166312</td>\n",
              "      <td>no</td>\n",
              "      <td>29</td>\n",
              "      <td>08</td>\n",
              "      <td>69</td>\n",
              "      <td>69544121</td>\n",
              "      <td>30</td>\n",
              "      <td>male</td>\n",
              "      <td>technical</td>\n",
              "      <td>married</td>\n",
              "      <td>uniGraduated</td>\n",
              "      <td>no</td>\n",
              "      <td>1</td>\n",
              "      <td>no</td>\n",
              "      <td>no</td>\n",
              "      <td>cellPhone</td>\n",
              "      <td>21</td>\n",
              "      <td>NaN</td>\n",
              "      <td>0</td>\n",
              "      <td>NaN</td>\n",
              "    </tr>\n",
              "    <tr>\n",
              "      <th>31479</th>\n",
              "      <td>432171709</td>\n",
              "      <td>no</td>\n",
              "      <td>2</td>\n",
              "      <td>02</td>\n",
              "      <td>171</td>\n",
              "      <td>69546604</td>\n",
              "      <td>50</td>\n",
              "      <td>male</td>\n",
              "      <td>technical</td>\n",
              "      <td>divorced</td>\n",
              "      <td>highSchool</td>\n",
              "      <td>no</td>\n",
              "      <td>8</td>\n",
              "      <td>no</td>\n",
              "      <td>no</td>\n",
              "      <td>cellPhone</td>\n",
              "      <td>2</td>\n",
              "      <td>5.0</td>\n",
              "      <td>1</td>\n",
              "      <td>other</td>\n",
              "    </tr>\n",
              "  </tbody>\n",
              "</table>\n",
              "<p>31480 rows × 20 columns</p>\n",
              "</div>\n",
              "    <div class=\"colab-df-buttons\">\n",
              "\n",
              "  <div class=\"colab-df-container\">\n",
              "    <button class=\"colab-df-convert\" onclick=\"convertToInteractive('df-dc1b2cde-b2be-43f4-971e-87af35554a27')\"\n",
              "            title=\"Convert this dataframe to an interactive table.\"\n",
              "            style=\"display:none;\">\n",
              "\n",
              "  <svg xmlns=\"http://www.w3.org/2000/svg\" height=\"24px\" viewBox=\"0 -960 960 960\">\n",
              "    <path d=\"M120-120v-720h720v720H120Zm60-500h600v-160H180v160Zm220 220h160v-160H400v160Zm0 220h160v-160H400v160ZM180-400h160v-160H180v160Zm440 0h160v-160H620v160ZM180-180h160v-160H180v160Zm440 0h160v-160H620v160Z\"/>\n",
              "  </svg>\n",
              "    </button>\n",
              "\n",
              "  <style>\n",
              "    .colab-df-container {\n",
              "      display:flex;\n",
              "      gap: 12px;\n",
              "    }\n",
              "\n",
              "    .colab-df-convert {\n",
              "      background-color: #E8F0FE;\n",
              "      border: none;\n",
              "      border-radius: 50%;\n",
              "      cursor: pointer;\n",
              "      display: none;\n",
              "      fill: #1967D2;\n",
              "      height: 32px;\n",
              "      padding: 0 0 0 0;\n",
              "      width: 32px;\n",
              "    }\n",
              "\n",
              "    .colab-df-convert:hover {\n",
              "      background-color: #E2EBFA;\n",
              "      box-shadow: 0px 1px 2px rgba(60, 64, 67, 0.3), 0px 1px 3px 1px rgba(60, 64, 67, 0.15);\n",
              "      fill: #174EA6;\n",
              "    }\n",
              "\n",
              "    .colab-df-buttons div {\n",
              "      margin-bottom: 4px;\n",
              "    }\n",
              "\n",
              "    [theme=dark] .colab-df-convert {\n",
              "      background-color: #3B4455;\n",
              "      fill: #D2E3FC;\n",
              "    }\n",
              "\n",
              "    [theme=dark] .colab-df-convert:hover {\n",
              "      background-color: #434B5C;\n",
              "      box-shadow: 0px 1px 3px 1px rgba(0, 0, 0, 0.15);\n",
              "      filter: drop-shadow(0px 1px 2px rgba(0, 0, 0, 0.3));\n",
              "      fill: #FFFFFF;\n",
              "    }\n",
              "  </style>\n",
              "\n",
              "    <script>\n",
              "      const buttonEl =\n",
              "        document.querySelector('#df-dc1b2cde-b2be-43f4-971e-87af35554a27 button.colab-df-convert');\n",
              "      buttonEl.style.display =\n",
              "        google.colab.kernel.accessAllowed ? 'block' : 'none';\n",
              "\n",
              "      async function convertToInteractive(key) {\n",
              "        const element = document.querySelector('#df-dc1b2cde-b2be-43f4-971e-87af35554a27');\n",
              "        const dataTable =\n",
              "          await google.colab.kernel.invokeFunction('convertToInteractive',\n",
              "                                                    [key], {});\n",
              "        if (!dataTable) return;\n",
              "\n",
              "        const docLinkHtml = 'Like what you see? Visit the ' +\n",
              "          '<a target=\"_blank\" href=https://colab.research.google.com/notebooks/data_table.ipynb>data table notebook</a>'\n",
              "          + ' to learn more about interactive tables.';\n",
              "        element.innerHTML = '';\n",
              "        dataTable['output_type'] = 'display_data';\n",
              "        await google.colab.output.renderOutput(dataTable, element);\n",
              "        const docLink = document.createElement('div');\n",
              "        docLink.innerHTML = docLinkHtml;\n",
              "        element.appendChild(docLink);\n",
              "      }\n",
              "    </script>\n",
              "  </div>\n",
              "\n",
              "\n",
              "<div id=\"df-abd61355-5714-4f4e-a7d9-ec536b687a3c\">\n",
              "  <button class=\"colab-df-quickchart\" onclick=\"quickchart('df-abd61355-5714-4f4e-a7d9-ec536b687a3c')\"\n",
              "            title=\"Suggest charts.\"\n",
              "            style=\"display:none;\">\n",
              "\n",
              "<svg xmlns=\"http://www.w3.org/2000/svg\" height=\"24px\"viewBox=\"0 0 24 24\"\n",
              "     width=\"24px\">\n",
              "    <g>\n",
              "        <path d=\"M19 3H5c-1.1 0-2 .9-2 2v14c0 1.1.9 2 2 2h14c1.1 0 2-.9 2-2V5c0-1.1-.9-2-2-2zM9 17H7v-7h2v7zm4 0h-2V7h2v10zm4 0h-2v-4h2v4z\"/>\n",
              "    </g>\n",
              "</svg>\n",
              "  </button>\n",
              "\n",
              "<style>\n",
              "  .colab-df-quickchart {\n",
              "      --bg-color: #E8F0FE;\n",
              "      --fill-color: #1967D2;\n",
              "      --hover-bg-color: #E2EBFA;\n",
              "      --hover-fill-color: #174EA6;\n",
              "      --disabled-fill-color: #AAA;\n",
              "      --disabled-bg-color: #DDD;\n",
              "  }\n",
              "\n",
              "  [theme=dark] .colab-df-quickchart {\n",
              "      --bg-color: #3B4455;\n",
              "      --fill-color: #D2E3FC;\n",
              "      --hover-bg-color: #434B5C;\n",
              "      --hover-fill-color: #FFFFFF;\n",
              "      --disabled-bg-color: #3B4455;\n",
              "      --disabled-fill-color: #666;\n",
              "  }\n",
              "\n",
              "  .colab-df-quickchart {\n",
              "    background-color: var(--bg-color);\n",
              "    border: none;\n",
              "    border-radius: 50%;\n",
              "    cursor: pointer;\n",
              "    display: none;\n",
              "    fill: var(--fill-color);\n",
              "    height: 32px;\n",
              "    padding: 0;\n",
              "    width: 32px;\n",
              "  }\n",
              "\n",
              "  .colab-df-quickchart:hover {\n",
              "    background-color: var(--hover-bg-color);\n",
              "    box-shadow: 0 1px 2px rgba(60, 64, 67, 0.3), 0 1px 3px 1px rgba(60, 64, 67, 0.15);\n",
              "    fill: var(--button-hover-fill-color);\n",
              "  }\n",
              "\n",
              "  .colab-df-quickchart-complete:disabled,\n",
              "  .colab-df-quickchart-complete:disabled:hover {\n",
              "    background-color: var(--disabled-bg-color);\n",
              "    fill: var(--disabled-fill-color);\n",
              "    box-shadow: none;\n",
              "  }\n",
              "\n",
              "  .colab-df-spinner {\n",
              "    border: 2px solid var(--fill-color);\n",
              "    border-color: transparent;\n",
              "    border-bottom-color: var(--fill-color);\n",
              "    animation:\n",
              "      spin 1s steps(1) infinite;\n",
              "  }\n",
              "\n",
              "  @keyframes spin {\n",
              "    0% {\n",
              "      border-color: transparent;\n",
              "      border-bottom-color: var(--fill-color);\n",
              "      border-left-color: var(--fill-color);\n",
              "    }\n",
              "    20% {\n",
              "      border-color: transparent;\n",
              "      border-left-color: var(--fill-color);\n",
              "      border-top-color: var(--fill-color);\n",
              "    }\n",
              "    30% {\n",
              "      border-color: transparent;\n",
              "      border-left-color: var(--fill-color);\n",
              "      border-top-color: var(--fill-color);\n",
              "      border-right-color: var(--fill-color);\n",
              "    }\n",
              "    40% {\n",
              "      border-color: transparent;\n",
              "      border-right-color: var(--fill-color);\n",
              "      border-top-color: var(--fill-color);\n",
              "    }\n",
              "    60% {\n",
              "      border-color: transparent;\n",
              "      border-right-color: var(--fill-color);\n",
              "    }\n",
              "    80% {\n",
              "      border-color: transparent;\n",
              "      border-right-color: var(--fill-color);\n",
              "      border-bottom-color: var(--fill-color);\n",
              "    }\n",
              "    90% {\n",
              "      border-color: transparent;\n",
              "      border-bottom-color: var(--fill-color);\n",
              "    }\n",
              "  }\n",
              "</style>\n",
              "\n",
              "  <script>\n",
              "    async function quickchart(key) {\n",
              "      const quickchartButtonEl =\n",
              "        document.querySelector('#' + key + ' button');\n",
              "      quickchartButtonEl.disabled = true;  // To prevent multiple clicks.\n",
              "      quickchartButtonEl.classList.add('colab-df-spinner');\n",
              "      try {\n",
              "        const charts = await google.colab.kernel.invokeFunction(\n",
              "            'suggestCharts', [key], {});\n",
              "      } catch (error) {\n",
              "        console.error('Error during call to suggestCharts:', error);\n",
              "      }\n",
              "      quickchartButtonEl.classList.remove('colab-df-spinner');\n",
              "      quickchartButtonEl.classList.add('colab-df-quickchart-complete');\n",
              "    }\n",
              "    (() => {\n",
              "      let quickchartButtonEl =\n",
              "        document.querySelector('#df-abd61355-5714-4f4e-a7d9-ec536b687a3c button');\n",
              "      quickchartButtonEl.style.display =\n",
              "        google.colab.kernel.accessAllowed ? 'block' : 'none';\n",
              "    })();\n",
              "  </script>\n",
              "</div>\n",
              "    </div>\n",
              "  </div>\n"
            ]
          },
          "metadata": {},
          "execution_count": 123
        }
      ],
      "source": [
        "\n",
        "month_map = {\n",
        "      \"jan\": \"01\",\n",
        "      \"feb\": \"02\",\n",
        "      \"mar\": \"03\",\n",
        "      \"apr\": \"04\",\n",
        "      \"may\": \"05\",\n",
        "      \"jun\": \"06\",\n",
        "      \"jul\": \"07\",\n",
        "      \"aug\": \"08\",\n",
        "      \"sep\": \"09\",\n",
        "      \"oct\": \"10\",\n",
        "      \"nov\": \"11\",\n",
        "      \"dec\": \"12\"}\n",
        "\n",
        "# Replace month names in the dfFrame with month numbers\n",
        "df[\"month\"]=df[\"month\"].replace(month_map)\n",
        "df\n"
      ]
    },
    {
      "cell_type": "markdown",
      "id": "54eb26d1",
      "metadata": {
        "papermill": {
          "duration": 0.014686,
          "end_time": "2023-07-13T21:03:08.212235",
          "exception": false,
          "start_time": "2023-07-13T21:03:08.197549",
          "status": "completed"
        },
        "tags": [],
        "id": "54eb26d1"
      },
      "source": [
        "### **Calculate describe statistics (count , max , min , 50%,25% ,75% , mean)**\n",
        "\n",
        "Creates a new variable called df_describe and Remove contactId, id because is not important\n",
        "\n",
        "The second line of code, df_describe.describe(), prints the summary statistics of the df_describe DataFrame. The describe() method calculates the mean, standard deviation, minimum, maximum, and quartiles of the DataFrame."
      ]
    },
    {
      "cell_type": "code",
      "execution_count": null,
      "id": "208fcc30",
      "metadata": {
        "execution": {
          "iopub.execute_input": "2023-07-13T21:03:08.243995Z",
          "iopub.status.busy": "2023-07-13T21:03:08.243418Z",
          "iopub.status.idle": "2023-07-13T21:03:08.287628Z",
          "shell.execute_reply": "2023-07-13T21:03:08.286717Z"
        },
        "id": "208fcc30",
        "outputId": "3b67dddb-1d01-489a-88fc-8f61c4e0df7d",
        "papermill": {
          "duration": 0.062586,
          "end_time": "2023-07-13T21:03:08.289680",
          "exception": false,
          "start_time": "2023-07-13T21:03:08.227094",
          "status": "completed"
        },
        "tags": [],
        "colab": {
          "base_uri": "https://localhost:8080/",
          "height": 320
        }
      },
      "outputs": [
        {
          "output_type": "execute_result",
          "data": {
            "text/plain": [
              "                day      duration           age  accountBalance  \\\n",
              "count  31480.000000  31480.000000  31480.000000    31480.000000   \n",
              "mean      15.799015    258.498380     40.935737     1348.535133   \n",
              "std        8.323251    256.576891     10.629198     2974.355578   \n",
              "min        1.000000      0.000000     18.000000    -8019.000000   \n",
              "25%        8.000000    104.000000     33.000000       70.000000   \n",
              "50%       16.000000    180.000000     39.000000      442.000000   \n",
              "75%       21.000000    320.000000     48.000000     1410.000000   \n",
              "max       31.000000   4918.000000     95.000000    98417.000000   \n",
              "\n",
              "       numberOfContacts  daySinceLastCampaign  numberOfContactsLastCampaign  \n",
              "count      31480.000000           5738.000000                  31480.000000  \n",
              "mean           2.779670            225.272395                      0.584339  \n",
              "std            3.139269            116.488328                      2.469742  \n",
              "min            1.000000              1.000000                      0.000000  \n",
              "25%            1.000000            133.000000                      0.000000  \n",
              "50%            2.000000            195.000000                      0.000000  \n",
              "75%            3.000000            327.000000                      0.000000  \n",
              "max           63.000000            871.000000                    275.000000  "
            ],
            "text/html": [
              "\n",
              "  <div id=\"df-5e18d5a1-3123-46a9-931f-19182e5ef693\" class=\"colab-df-container\">\n",
              "    <div>\n",
              "<style scoped>\n",
              "    .dataframe tbody tr th:only-of-type {\n",
              "        vertical-align: middle;\n",
              "    }\n",
              "\n",
              "    .dataframe tbody tr th {\n",
              "        vertical-align: top;\n",
              "    }\n",
              "\n",
              "    .dataframe thead th {\n",
              "        text-align: right;\n",
              "    }\n",
              "</style>\n",
              "<table border=\"1\" class=\"dataframe\">\n",
              "  <thead>\n",
              "    <tr style=\"text-align: right;\">\n",
              "      <th></th>\n",
              "      <th>day</th>\n",
              "      <th>duration</th>\n",
              "      <th>age</th>\n",
              "      <th>accountBalance</th>\n",
              "      <th>numberOfContacts</th>\n",
              "      <th>daySinceLastCampaign</th>\n",
              "      <th>numberOfContactsLastCampaign</th>\n",
              "    </tr>\n",
              "  </thead>\n",
              "  <tbody>\n",
              "    <tr>\n",
              "      <th>count</th>\n",
              "      <td>31480.000000</td>\n",
              "      <td>31480.000000</td>\n",
              "      <td>31480.000000</td>\n",
              "      <td>31480.000000</td>\n",
              "      <td>31480.000000</td>\n",
              "      <td>5738.000000</td>\n",
              "      <td>31480.000000</td>\n",
              "    </tr>\n",
              "    <tr>\n",
              "      <th>mean</th>\n",
              "      <td>15.799015</td>\n",
              "      <td>258.498380</td>\n",
              "      <td>40.935737</td>\n",
              "      <td>1348.535133</td>\n",
              "      <td>2.779670</td>\n",
              "      <td>225.272395</td>\n",
              "      <td>0.584339</td>\n",
              "    </tr>\n",
              "    <tr>\n",
              "      <th>std</th>\n",
              "      <td>8.323251</td>\n",
              "      <td>256.576891</td>\n",
              "      <td>10.629198</td>\n",
              "      <td>2974.355578</td>\n",
              "      <td>3.139269</td>\n",
              "      <td>116.488328</td>\n",
              "      <td>2.469742</td>\n",
              "    </tr>\n",
              "    <tr>\n",
              "      <th>min</th>\n",
              "      <td>1.000000</td>\n",
              "      <td>0.000000</td>\n",
              "      <td>18.000000</td>\n",
              "      <td>-8019.000000</td>\n",
              "      <td>1.000000</td>\n",
              "      <td>1.000000</td>\n",
              "      <td>0.000000</td>\n",
              "    </tr>\n",
              "    <tr>\n",
              "      <th>25%</th>\n",
              "      <td>8.000000</td>\n",
              "      <td>104.000000</td>\n",
              "      <td>33.000000</td>\n",
              "      <td>70.000000</td>\n",
              "      <td>1.000000</td>\n",
              "      <td>133.000000</td>\n",
              "      <td>0.000000</td>\n",
              "    </tr>\n",
              "    <tr>\n",
              "      <th>50%</th>\n",
              "      <td>16.000000</td>\n",
              "      <td>180.000000</td>\n",
              "      <td>39.000000</td>\n",
              "      <td>442.000000</td>\n",
              "      <td>2.000000</td>\n",
              "      <td>195.000000</td>\n",
              "      <td>0.000000</td>\n",
              "    </tr>\n",
              "    <tr>\n",
              "      <th>75%</th>\n",
              "      <td>21.000000</td>\n",
              "      <td>320.000000</td>\n",
              "      <td>48.000000</td>\n",
              "      <td>1410.000000</td>\n",
              "      <td>3.000000</td>\n",
              "      <td>327.000000</td>\n",
              "      <td>0.000000</td>\n",
              "    </tr>\n",
              "    <tr>\n",
              "      <th>max</th>\n",
              "      <td>31.000000</td>\n",
              "      <td>4918.000000</td>\n",
              "      <td>95.000000</td>\n",
              "      <td>98417.000000</td>\n",
              "      <td>63.000000</td>\n",
              "      <td>871.000000</td>\n",
              "      <td>275.000000</td>\n",
              "    </tr>\n",
              "  </tbody>\n",
              "</table>\n",
              "</div>\n",
              "    <div class=\"colab-df-buttons\">\n",
              "\n",
              "  <div class=\"colab-df-container\">\n",
              "    <button class=\"colab-df-convert\" onclick=\"convertToInteractive('df-5e18d5a1-3123-46a9-931f-19182e5ef693')\"\n",
              "            title=\"Convert this dataframe to an interactive table.\"\n",
              "            style=\"display:none;\">\n",
              "\n",
              "  <svg xmlns=\"http://www.w3.org/2000/svg\" height=\"24px\" viewBox=\"0 -960 960 960\">\n",
              "    <path d=\"M120-120v-720h720v720H120Zm60-500h600v-160H180v160Zm220 220h160v-160H400v160Zm0 220h160v-160H400v160ZM180-400h160v-160H180v160Zm440 0h160v-160H620v160ZM180-180h160v-160H180v160Zm440 0h160v-160H620v160Z\"/>\n",
              "  </svg>\n",
              "    </button>\n",
              "\n",
              "  <style>\n",
              "    .colab-df-container {\n",
              "      display:flex;\n",
              "      gap: 12px;\n",
              "    }\n",
              "\n",
              "    .colab-df-convert {\n",
              "      background-color: #E8F0FE;\n",
              "      border: none;\n",
              "      border-radius: 50%;\n",
              "      cursor: pointer;\n",
              "      display: none;\n",
              "      fill: #1967D2;\n",
              "      height: 32px;\n",
              "      padding: 0 0 0 0;\n",
              "      width: 32px;\n",
              "    }\n",
              "\n",
              "    .colab-df-convert:hover {\n",
              "      background-color: #E2EBFA;\n",
              "      box-shadow: 0px 1px 2px rgba(60, 64, 67, 0.3), 0px 1px 3px 1px rgba(60, 64, 67, 0.15);\n",
              "      fill: #174EA6;\n",
              "    }\n",
              "\n",
              "    .colab-df-buttons div {\n",
              "      margin-bottom: 4px;\n",
              "    }\n",
              "\n",
              "    [theme=dark] .colab-df-convert {\n",
              "      background-color: #3B4455;\n",
              "      fill: #D2E3FC;\n",
              "    }\n",
              "\n",
              "    [theme=dark] .colab-df-convert:hover {\n",
              "      background-color: #434B5C;\n",
              "      box-shadow: 0px 1px 3px 1px rgba(0, 0, 0, 0.15);\n",
              "      filter: drop-shadow(0px 1px 2px rgba(0, 0, 0, 0.3));\n",
              "      fill: #FFFFFF;\n",
              "    }\n",
              "  </style>\n",
              "\n",
              "    <script>\n",
              "      const buttonEl =\n",
              "        document.querySelector('#df-5e18d5a1-3123-46a9-931f-19182e5ef693 button.colab-df-convert');\n",
              "      buttonEl.style.display =\n",
              "        google.colab.kernel.accessAllowed ? 'block' : 'none';\n",
              "\n",
              "      async function convertToInteractive(key) {\n",
              "        const element = document.querySelector('#df-5e18d5a1-3123-46a9-931f-19182e5ef693');\n",
              "        const dataTable =\n",
              "          await google.colab.kernel.invokeFunction('convertToInteractive',\n",
              "                                                    [key], {});\n",
              "        if (!dataTable) return;\n",
              "\n",
              "        const docLinkHtml = 'Like what you see? Visit the ' +\n",
              "          '<a target=\"_blank\" href=https://colab.research.google.com/notebooks/data_table.ipynb>data table notebook</a>'\n",
              "          + ' to learn more about interactive tables.';\n",
              "        element.innerHTML = '';\n",
              "        dataTable['output_type'] = 'display_data';\n",
              "        await google.colab.output.renderOutput(dataTable, element);\n",
              "        const docLink = document.createElement('div');\n",
              "        docLink.innerHTML = docLinkHtml;\n",
              "        element.appendChild(docLink);\n",
              "      }\n",
              "    </script>\n",
              "  </div>\n",
              "\n",
              "\n",
              "<div id=\"df-9398c2ab-7959-4131-aa75-cff7c454dcd4\">\n",
              "  <button class=\"colab-df-quickchart\" onclick=\"quickchart('df-9398c2ab-7959-4131-aa75-cff7c454dcd4')\"\n",
              "            title=\"Suggest charts.\"\n",
              "            style=\"display:none;\">\n",
              "\n",
              "<svg xmlns=\"http://www.w3.org/2000/svg\" height=\"24px\"viewBox=\"0 0 24 24\"\n",
              "     width=\"24px\">\n",
              "    <g>\n",
              "        <path d=\"M19 3H5c-1.1 0-2 .9-2 2v14c0 1.1.9 2 2 2h14c1.1 0 2-.9 2-2V5c0-1.1-.9-2-2-2zM9 17H7v-7h2v7zm4 0h-2V7h2v10zm4 0h-2v-4h2v4z\"/>\n",
              "    </g>\n",
              "</svg>\n",
              "  </button>\n",
              "\n",
              "<style>\n",
              "  .colab-df-quickchart {\n",
              "      --bg-color: #E8F0FE;\n",
              "      --fill-color: #1967D2;\n",
              "      --hover-bg-color: #E2EBFA;\n",
              "      --hover-fill-color: #174EA6;\n",
              "      --disabled-fill-color: #AAA;\n",
              "      --disabled-bg-color: #DDD;\n",
              "  }\n",
              "\n",
              "  [theme=dark] .colab-df-quickchart {\n",
              "      --bg-color: #3B4455;\n",
              "      --fill-color: #D2E3FC;\n",
              "      --hover-bg-color: #434B5C;\n",
              "      --hover-fill-color: #FFFFFF;\n",
              "      --disabled-bg-color: #3B4455;\n",
              "      --disabled-fill-color: #666;\n",
              "  }\n",
              "\n",
              "  .colab-df-quickchart {\n",
              "    background-color: var(--bg-color);\n",
              "    border: none;\n",
              "    border-radius: 50%;\n",
              "    cursor: pointer;\n",
              "    display: none;\n",
              "    fill: var(--fill-color);\n",
              "    height: 32px;\n",
              "    padding: 0;\n",
              "    width: 32px;\n",
              "  }\n",
              "\n",
              "  .colab-df-quickchart:hover {\n",
              "    background-color: var(--hover-bg-color);\n",
              "    box-shadow: 0 1px 2px rgba(60, 64, 67, 0.3), 0 1px 3px 1px rgba(60, 64, 67, 0.15);\n",
              "    fill: var(--button-hover-fill-color);\n",
              "  }\n",
              "\n",
              "  .colab-df-quickchart-complete:disabled,\n",
              "  .colab-df-quickchart-complete:disabled:hover {\n",
              "    background-color: var(--disabled-bg-color);\n",
              "    fill: var(--disabled-fill-color);\n",
              "    box-shadow: none;\n",
              "  }\n",
              "\n",
              "  .colab-df-spinner {\n",
              "    border: 2px solid var(--fill-color);\n",
              "    border-color: transparent;\n",
              "    border-bottom-color: var(--fill-color);\n",
              "    animation:\n",
              "      spin 1s steps(1) infinite;\n",
              "  }\n",
              "\n",
              "  @keyframes spin {\n",
              "    0% {\n",
              "      border-color: transparent;\n",
              "      border-bottom-color: var(--fill-color);\n",
              "      border-left-color: var(--fill-color);\n",
              "    }\n",
              "    20% {\n",
              "      border-color: transparent;\n",
              "      border-left-color: var(--fill-color);\n",
              "      border-top-color: var(--fill-color);\n",
              "    }\n",
              "    30% {\n",
              "      border-color: transparent;\n",
              "      border-left-color: var(--fill-color);\n",
              "      border-top-color: var(--fill-color);\n",
              "      border-right-color: var(--fill-color);\n",
              "    }\n",
              "    40% {\n",
              "      border-color: transparent;\n",
              "      border-right-color: var(--fill-color);\n",
              "      border-top-color: var(--fill-color);\n",
              "    }\n",
              "    60% {\n",
              "      border-color: transparent;\n",
              "      border-right-color: var(--fill-color);\n",
              "    }\n",
              "    80% {\n",
              "      border-color: transparent;\n",
              "      border-right-color: var(--fill-color);\n",
              "      border-bottom-color: var(--fill-color);\n",
              "    }\n",
              "    90% {\n",
              "      border-color: transparent;\n",
              "      border-bottom-color: var(--fill-color);\n",
              "    }\n",
              "  }\n",
              "</style>\n",
              "\n",
              "  <script>\n",
              "    async function quickchart(key) {\n",
              "      const quickchartButtonEl =\n",
              "        document.querySelector('#' + key + ' button');\n",
              "      quickchartButtonEl.disabled = true;  // To prevent multiple clicks.\n",
              "      quickchartButtonEl.classList.add('colab-df-spinner');\n",
              "      try {\n",
              "        const charts = await google.colab.kernel.invokeFunction(\n",
              "            'suggestCharts', [key], {});\n",
              "      } catch (error) {\n",
              "        console.error('Error during call to suggestCharts:', error);\n",
              "      }\n",
              "      quickchartButtonEl.classList.remove('colab-df-spinner');\n",
              "      quickchartButtonEl.classList.add('colab-df-quickchart-complete');\n",
              "    }\n",
              "    (() => {\n",
              "      let quickchartButtonEl =\n",
              "        document.querySelector('#df-9398c2ab-7959-4131-aa75-cff7c454dcd4 button');\n",
              "      quickchartButtonEl.style.display =\n",
              "        google.colab.kernel.accessAllowed ? 'block' : 'none';\n",
              "    })();\n",
              "  </script>\n",
              "</div>\n",
              "    </div>\n",
              "  </div>\n"
            ]
          },
          "metadata": {},
          "execution_count": 124
        }
      ],
      "source": [
        "df_describe=df.copy()\n",
        "df_describe=df.drop([\"contactId\",\"id\"], axis=1)\n",
        "df_describe.describe()"
      ]
    },
    {
      "cell_type": "markdown",
      "source": [
        "## **Questions**"
      ],
      "metadata": {
        "id": "gdCtwCR-gsvW"
      },
      "id": "gdCtwCR-gsvW"
    },
    {
      "cell_type": "markdown",
      "source": [
        "These questions can be asked in exploratory data analysis and you can ask\n",
        "more questions"
      ],
      "metadata": {
        "id": "592Qbw05gzEH"
      },
      "id": "592Qbw05gzEH"
    },
    {
      "cell_type": "markdown",
      "id": "1a998a92",
      "metadata": {
        "papermill": {
          "duration": 0.015071,
          "end_time": "2023-07-13T21:03:08.320127",
          "exception": false,
          "start_time": "2023-07-13T21:03:08.305056",
          "status": "completed"
        },
        "tags": [],
        "id": "1a998a92"
      },
      "source": [
        "###**What is the  difference between the number of males and females compared to the acceptance or rejection of the marketing campaign?**\n"
      ]
    },
    {
      "cell_type": "code",
      "execution_count": null,
      "id": "b0499efc",
      "metadata": {
        "execution": {
          "iopub.execute_input": "2023-07-13T21:03:08.351968Z",
          "iopub.status.busy": "2023-07-13T21:03:08.351587Z",
          "iopub.status.idle": "2023-07-13T21:03:08.702920Z",
          "shell.execute_reply": "2023-07-13T21:03:08.701958Z"
        },
        "id": "b0499efc",
        "outputId": "7732ec21-b62e-4e15-89f0-c0874fc47769",
        "papermill": {
          "duration": 0.369798,
          "end_time": "2023-07-13T21:03:08.705104",
          "exception": false,
          "start_time": "2023-07-13T21:03:08.335306",
          "status": "completed"
        },
        "tags": [],
        "colab": {
          "base_uri": "https://localhost:8080/",
          "height": 582
        }
      },
      "outputs": [
        {
          "output_type": "execute_result",
          "data": {
            "text/plain": [
              "<Axes: title={'center': 'Count Gender by Target'}, xlabel='gender', ylabel='count'>"
            ]
          },
          "metadata": {},
          "execution_count": 125
        },
        {
          "output_type": "display_data",
          "data": {
            "text/plain": [
              "<Figure size 800x600 with 1 Axes>"
            ],
            "image/png": "[encoded data removed]"
          },
          "metadata": {}
        }
      ],
      "source": [
        "# size figure\n",
        "data=df.copy()\n",
        "fig, ax=plt.subplots(figsize=(8,6))\n",
        "ax.set_title(\"Count Gender by Target\")\n",
        "# Countplot\n",
        "sns.countplot(x='gender',data=data,hue=\"target\",ax=ax)"
      ]
    },
    {
      "cell_type": "markdown",
      "source": [
        "We note that the number of males and females is almost equal, but the number of those who reject the marketing campaign is very large in proportion to those who agree with the marketing campaign."
      ],
      "metadata": {
        "id": "bq5pe4znrwSa"
      },
      "id": "bq5pe4znrwSa"
    },
    {
      "cell_type": "markdown",
      "id": "2889b67d",
      "metadata": {
        "papermill": {
          "duration": 0.015645,
          "end_time": "2023-07-13T21:03:08.736882",
          "exception": false,
          "start_time": "2023-07-13T21:03:08.721237",
          "status": "completed"
        },
        "tags": [],
        "id": "2889b67d"
      },
      "source": [
        "### **What is the relationship between age and contract duration ?**\n"
      ]
    },
    {
      "cell_type": "code",
      "execution_count": null,
      "id": "5568c61c",
      "metadata": {
        "execution": {
          "iopub.execute_input": "2023-07-13T21:03:08.770501Z",
          "iopub.status.busy": "2023-07-13T21:03:08.769749Z",
          "iopub.status.idle": "2023-07-13T21:03:12.911100Z",
          "shell.execute_reply": "2023-07-13T21:03:12.910436Z"
        },
        "id": "5568c61c",
        "outputId": "2c0be513-9ab0-45c6-f825-849b8bf5d1c7",
        "papermill": {
          "duration": 4.161189,
          "end_time": "2023-07-13T21:03:12.913790",
          "exception": false,
          "start_time": "2023-07-13T21:03:08.752601",
          "status": "completed"
        },
        "tags": [],
        "colab": {
          "base_uri": "https://localhost:8080/",
          "height": 582
        }
      },
      "outputs": [
        {
          "output_type": "execute_result",
          "data": {
            "text/plain": [
              "<Axes: title={'center': 'Relationship between age and duration'}, xlabel='age', ylabel='duration'>"
            ]
          },
          "metadata": {},
          "execution_count": 126
        },
        {
          "output_type": "display_data",
          "data": {
            "text/plain": [
              "<Figure size 800x600 with 1 Axes>"
            ],
            "image/png": "[encoded data removed]"
          },
          "metadata": {}
        }
      ],
      "source": [
        "fig, ax=plt.subplots(figsize=(8,6))\n",
        "data=df.copy()\n",
        "ax.set_title(\"Relationship between age and duration\")\n",
        "sns.lineplot(x='age',y='duration',data=data,ax=ax)"
      ]
    },
    {
      "cell_type": "markdown",
      "source": [
        "We notice that the duration of the conversation increases from the age of 80 to 90 compared to younger people."
      ],
      "metadata": {
        "id": "GrySa7NY3rFa"
      },
      "id": "GrySa7NY3rFa"
    },
    {
      "cell_type": "markdown",
      "id": "90c28776",
      "metadata": {
        "papermill": {
          "duration": 0.019238,
          "end_time": "2023-07-13T21:03:15.031854",
          "exception": false,
          "start_time": "2023-07-13T21:03:15.012616",
          "status": "completed"
        },
        "tags": [],
        "id": "90c28776"
      },
      "source": [
        "###**Boxplot that shows the distribution of the age variable for each target value**\n"
      ]
    },
    {
      "cell_type": "code",
      "execution_count": null,
      "id": "10756771",
      "metadata": {
        "execution": {
          "iopub.execute_input": "2023-07-13T21:03:15.070461Z",
          "iopub.status.busy": "2023-07-13T21:03:15.069782Z",
          "iopub.status.idle": "2023-07-13T21:03:15.404644Z",
          "shell.execute_reply": "2023-07-13T21:03:15.403713Z"
        },
        "id": "10756771",
        "outputId": "c7d25adf-6bdd-490b-faff-0301c10ce6e8",
        "papermill": {
          "duration": 0.357096,
          "end_time": "2023-07-13T21:03:15.407246",
          "exception": false,
          "start_time": "2023-07-13T21:03:15.050150",
          "status": "completed"
        },
        "tags": [],
        "colab": {
          "base_uri": "https://localhost:8080/",
          "height": 582
        }
      },
      "outputs": [
        {
          "output_type": "execute_result",
          "data": {
            "text/plain": [
              "<Axes: title={'center': 'Distribution of the age by target'}, xlabel='age', ylabel='target'>"
            ]
          },
          "metadata": {},
          "execution_count": 127
        },
        {
          "output_type": "display_data",
          "data": {
            "text/plain": [
              "<Figure size 800x600 with 1 Axes>"
            ],
            "image/png": "[encoded data removed]"
          },
          "metadata": {}
        }
      ],
      "source": [
        "fig, ax=plt.subplots(figsize=(8,6))\n",
        "data=df.copy()\n",
        "ax.set_title(\"Distribution of the age by target\")\n",
        "sns.boxenplot(x=\"age\",y=\"target\",hue=\"target\",data=data,ax=ax)"
      ]
    },
    {
      "cell_type": "markdown",
      "source": [
        "We note the boxplot that shows the distribution of the age variable for each target value shows the minimum, 25th percentile, median, 75th percentile, and maximum values for the age variable for each target value. The boxes will be colored differently for each target value."
      ],
      "metadata": {
        "id": "B_gU5Hqf69jP"
      },
      "id": "B_gU5Hqf69jP"
    },
    {
      "cell_type": "markdown",
      "id": "af69f481",
      "metadata": {
        "papermill": {
          "duration": 0.018724,
          "end_time": "2023-07-13T21:03:15.445180",
          "exception": false,
          "start_time": "2023-07-13T21:03:15.426456",
          "status": "completed"
        },
        "tags": [],
        "id": "af69f481"
      },
      "source": [
        "### **What are the Types of Educations ?**\n"
      ]
    },
    {
      "cell_type": "code",
      "execution_count": null,
      "id": "a1ffe3df",
      "metadata": {
        "execution": {
          "iopub.execute_input": "2023-07-13T21:03:15.484598Z",
          "iopub.status.busy": "2023-07-13T21:03:15.484192Z",
          "iopub.status.idle": "2023-07-13T21:03:15.685340Z",
          "shell.execute_reply": "2023-07-13T21:03:15.684227Z"
        },
        "id": "a1ffe3df",
        "outputId": "ea2ef36d-1217-45ee-fe9a-c5eb6f7c8fd9",
        "papermill": {
          "duration": 0.224133,
          "end_time": "2023-07-13T21:03:15.688248",
          "exception": false,
          "start_time": "2023-07-13T21:03:15.464115",
          "status": "completed"
        },
        "scrolled": true,
        "tags": [],
        "colab": {
          "base_uri": "https://localhost:8080/",
          "height": 521
        }
      },
      "outputs": [
        {
          "output_type": "display_data",
          "data": {
            "text/plain": [
              "<Figure size 800x600 with 1 Axes>"
            ],
            "image/png": "[encoded data removed]"
          },
          "metadata": {}
        }
      ],
      "source": [
        "# Create a df frame of education counts\n",
        "df.copy()\n",
        "education_counts = df['education'].value_counts()\n",
        "\n",
        "# Plot a pie chart\n",
        "education_counts.plot(kind='pie', title='Types of Education',autopct='%.2f %%', figsize=(8,6))\n",
        "\n",
        "plt.legend()\n",
        "plt.show()"
      ]
    },
    {
      "cell_type": "markdown",
      "source": [
        "We note the types of education in the dataset: high school: 53.64%, ungraduated: 30.65%, and secondary school : 15.71%"
      ],
      "metadata": {
        "id": "pY4Tb8eFAPHs"
      },
      "id": "pY4Tb8eFAPHs"
    },
    {
      "cell_type": "markdown",
      "id": "51cf28af",
      "metadata": {
        "papermill": {
          "duration": 0.019448,
          "end_time": "2023-07-13T21:03:15.739692",
          "exception": false,
          "start_time": "2023-07-13T21:03:15.720244",
          "status": "completed"
        },
        "tags": [],
        "id": "51cf28af"
      },
      "source": [
        "### **What are the Distribution Ages?**\n"
      ]
    },
    {
      "cell_type": "code",
      "source": [
        "df.copy()\n",
        "plt.hist(df.age)\n",
        "plt.title(\"Distribution of the Ages\")\n",
        "plt.show()"
      ],
      "metadata": {
        "id": "vtuBzPbYKfpb",
        "colab": {
          "base_uri": "https://localhost:8080/",
          "height": 452
        },
        "outputId": "47b19be2-4c53-45ab-9404-67068c32f3ba"
      },
      "id": "vtuBzPbYKfpb",
      "execution_count": null,
      "outputs": [
        {
          "output_type": "display_data",
          "data": {
            "text/plain": [
              "<Figure size 640x480 with 1 Axes>"
            ],
            "image/png": "[encoded data removed]"
          },
          "metadata": {}
        }
      ]
    },
    {
      "cell_type": "markdown",
      "source": [
        "We note that the largest group of customers in normal distribution is from the ages of 25 to 55"
      ],
      "metadata": {
        "id": "U9E0nKQpAgOi"
      },
      "id": "U9E0nKQpAgOi"
    },
    {
      "cell_type": "markdown",
      "id": "b2f4a8a4",
      "metadata": {
        "papermill": {
          "duration": 0.019282,
          "end_time": "2023-07-13T21:03:16.059507",
          "exception": false,
          "start_time": "2023-07-13T21:03:16.040225",
          "status": "completed"
        },
        "tags": [],
        "id": "b2f4a8a4"
      },
      "source": [
        "### **What are the Types of jobs?**\n"
      ]
    },
    {
      "cell_type": "code",
      "execution_count": null,
      "id": "7890d6a3",
      "metadata": {
        "execution": {
          "iopub.execute_input": "2023-07-13T21:03:16.100373Z",
          "iopub.status.busy": "2023-07-13T21:03:16.099738Z",
          "iopub.status.idle": "2023-07-13T21:03:16.328536Z",
          "shell.execute_reply": "2023-07-13T21:03:16.327287Z"
        },
        "id": "7890d6a3",
        "outputId": "0d84aaeb-b599-4cc5-e090-946971a110cf",
        "papermill": {
          "duration": 0.252626,
          "end_time": "2023-07-13T21:03:16.331658",
          "exception": false,
          "start_time": "2023-07-13T21:03:16.079032",
          "status": "completed"
        },
        "tags": [],
        "colab": {
          "base_uri": "https://localhost:8080/",
          "height": 679
        }
      },
      "outputs": [
        {
          "output_type": "display_data",
          "data": {
            "text/plain": [
              "<Figure size 800x1000 with 1 Axes>"
            ],
            "image/png": "[encoded data removed]"
          },
          "metadata": {}
        }
      ],
      "source": [
        "#type of job\n",
        "df.copy()\n",
        "job_counts = df['job'].value_counts()\n",
        "job_counts.plot(kind='pie', title='Types jobs',autopct='%.2f %%', figsize=(8,10))\n",
        "plt.show()"
      ]
    },
    {
      "cell_type": "markdown",
      "source": [
        "We note that the types of jobs : Worker: 21.69%, Manager: 20.79%, and Technician: 17.06% highest compared to other jobs."
      ],
      "metadata": {
        "id": "OdmQvkxtHBZc"
      },
      "id": "OdmQvkxtHBZc"
    },
    {
      "cell_type": "markdown",
      "id": "1babeff0",
      "metadata": {
        "papermill": {
          "duration": 0.020826,
          "end_time": "2023-07-13T21:03:16.376768",
          "exception": false,
          "start_time": "2023-07-13T21:03:16.355942",
          "status": "completed"
        },
        "tags": [],
        "id": "1babeff0"
      },
      "source": [
        "###**What is the relationship between marital status and account balance ?**\n",
        "\n",
        "\n",
        "\n"
      ]
    },
    {
      "cell_type": "code",
      "execution_count": null,
      "id": "545f27a1",
      "metadata": {
        "execution": {
          "iopub.execute_input": "2023-07-13T21:03:16.420011Z",
          "iopub.status.busy": "2023-07-13T21:03:16.419119Z",
          "iopub.status.idle": "2023-07-13T21:03:17.125061Z",
          "shell.execute_reply": "2023-07-13T21:03:17.123974Z"
        },
        "id": "545f27a1",
        "outputId": "cbb038da-f0ca-4234-9abb-853a39ae2fe5",
        "papermill": {
          "duration": 0.729783,
          "end_time": "2023-07-13T21:03:17.127261",
          "exception": false,
          "start_time": "2023-07-13T21:03:16.397478",
          "status": "completed"
        },
        "scrolled": true,
        "tags": [],
        "colab": {
          "base_uri": "https://localhost:8080/",
          "height": 582
        }
      },
      "outputs": [
        {
          "output_type": "execute_result",
          "data": {
            "text/plain": [
              "<Axes: title={'center': 'Marital Status vs Account Balance'}, xlabel='maritalStatus', ylabel='accountBalance'>"
            ]
          },
          "metadata": {},
          "execution_count": 131
        },
        {
          "output_type": "display_data",
          "data": {
            "text/plain": [
              "<Figure size 800x600 with 1 Axes>"
            ],
            "image/png": "[encoded data removed]"
          },
          "metadata": {}
        }
      ],
      "source": [
        "data=df.copy()\n",
        "fig, ax=plt.subplots(figsize=(8,6))\n",
        "ax.set_title(\"Marital Status vs Account Balance\")\n",
        "sns.barplot(x=\"maritalStatus\",y=\"accountBalance\",data=data,ax=ax)"
      ]
    },
    {
      "cell_type": "markdown",
      "source": [
        "We note that the account balances of married people are higher than those of single people, and that single people have higher  than those who are divorced"
      ],
      "metadata": {
        "id": "KZ26epVjOvbp"
      },
      "id": "KZ26epVjOvbp"
    },
    {
      "cell_type": "markdown",
      "id": "0d9d0a5a",
      "metadata": {
        "papermill": {
          "duration": 0.020909,
          "end_time": "2023-07-13T21:03:17.375973",
          "exception": false,
          "start_time": "2023-07-13T21:03:17.355064",
          "status": "completed"
        },
        "tags": [],
        "id": "0d9d0a5a"
      },
      "source": [
        "###**Who is the person who has the highest account balance?**"
      ]
    },
    {
      "cell_type": "code",
      "execution_count": null,
      "id": "ffac7922",
      "metadata": {
        "execution": {
          "iopub.execute_input": "2023-07-13T21:03:17.419720Z",
          "iopub.status.busy": "2023-07-13T21:03:17.419136Z",
          "iopub.status.idle": "2023-07-13T21:03:17.437488Z",
          "shell.execute_reply": "2023-07-13T21:03:17.436803Z"
        },
        "id": "ffac7922",
        "outputId": "b8343276-d37f-4e22-e5e6-55ef465601bb",
        "papermill": {
          "duration": 0.042367,
          "end_time": "2023-07-13T21:03:17.439273",
          "exception": false,
          "start_time": "2023-07-13T21:03:17.396906",
          "status": "completed"
        },
        "scrolled": true,
        "tags": [],
        "colab": {
          "base_uri": "https://localhost:8080/",
          "height": 101
        }
      },
      "outputs": [
        {
          "output_type": "execute_result",
          "data": {
            "text/plain": [
              "              id target  day month  duration  contactId  age  gender      job  \\\n",
              "25480  432168574     no   20    11       145   56135495   59  female  manager   \n",
              "\n",
              "      maritalStatus     education creditFailure  accountBalance house credit  \\\n",
              "25480       married  uniGraduated            no           98417    no     no   \n",
              "\n",
              "      contactType  numberOfContacts  daySinceLastCampaign  \\\n",
              "25480    landline                 5                   NaN   \n",
              "\n",
              "       numberOfContactsLastCampaign lastCampaignResult  \n",
              "25480                             0                NaN  "
            ],
            "text/html": [
              "\n",
              "  <div id=\"df-4b511cb9-2ae2-4743-949a-777b16792aa6\" class=\"colab-df-container\">\n",
              "    <div>\n",
              "<style scoped>\n",
              "    .dataframe tbody tr th:only-of-type {\n",
              "        vertical-align: middle;\n",
              "    }\n",
              "\n",
              "    .dataframe tbody tr th {\n",
              "        vertical-align: top;\n",
              "    }\n",
              "\n",
              "    .dataframe thead th {\n",
              "        text-align: right;\n",
              "    }\n",
              "</style>\n",
              "<table border=\"1\" class=\"dataframe\">\n",
              "  <thead>\n",
              "    <tr style=\"text-align: right;\">\n",
              "      <th></th>\n",
              "      <th>id</th>\n",
              "      <th>target</th>\n",
              "      <th>day</th>\n",
              "      <th>month</th>\n",
              "      <th>duration</th>\n",
              "      <th>contactId</th>\n",
              "      <th>age</th>\n",
              "      <th>gender</th>\n",
              "      <th>job</th>\n",
              "      <th>maritalStatus</th>\n",
              "      <th>education</th>\n",
              "      <th>creditFailure</th>\n",
              "      <th>accountBalance</th>\n",
              "      <th>house</th>\n",
              "      <th>credit</th>\n",
              "      <th>contactType</th>\n",
              "      <th>numberOfContacts</th>\n",
              "      <th>daySinceLastCampaign</th>\n",
              "      <th>numberOfContactsLastCampaign</th>\n",
              "      <th>lastCampaignResult</th>\n",
              "    </tr>\n",
              "  </thead>\n",
              "  <tbody>\n",
              "    <tr>\n",
              "      <th>25480</th>\n",
              "      <td>432168574</td>\n",
              "      <td>no</td>\n",
              "      <td>20</td>\n",
              "      <td>11</td>\n",
              "      <td>145</td>\n",
              "      <td>56135495</td>\n",
              "      <td>59</td>\n",
              "      <td>female</td>\n",
              "      <td>manager</td>\n",
              "      <td>married</td>\n",
              "      <td>uniGraduated</td>\n",
              "      <td>no</td>\n",
              "      <td>98417</td>\n",
              "      <td>no</td>\n",
              "      <td>no</td>\n",
              "      <td>landline</td>\n",
              "      <td>5</td>\n",
              "      <td>NaN</td>\n",
              "      <td>0</td>\n",
              "      <td>NaN</td>\n",
              "    </tr>\n",
              "  </tbody>\n",
              "</table>\n",
              "</div>\n",
              "    <div class=\"colab-df-buttons\">\n",
              "\n",
              "  <div class=\"colab-df-container\">\n",
              "    <button class=\"colab-df-convert\" onclick=\"convertToInteractive('df-4b511cb9-2ae2-4743-949a-777b16792aa6')\"\n",
              "            title=\"Convert this dataframe to an interactive table.\"\n",
              "            style=\"display:none;\">\n",
              "\n",
              "  <svg xmlns=\"http://www.w3.org/2000/svg\" height=\"24px\" viewBox=\"0 -960 960 960\">\n",
              "    <path d=\"M120-120v-720h720v720H120Zm60-500h600v-160H180v160Zm220 220h160v-160H400v160Zm0 220h160v-160H400v160ZM180-400h160v-160H180v160Zm440 0h160v-160H620v160ZM180-180h160v-160H180v160Zm440 0h160v-160H620v160Z\"/>\n",
              "  </svg>\n",
              "    </button>\n",
              "\n",
              "  <style>\n",
              "    .colab-df-container {\n",
              "      display:flex;\n",
              "      gap: 12px;\n",
              "    }\n",
              "\n",
              "    .colab-df-convert {\n",
              "      background-color: #E8F0FE;\n",
              "      border: none;\n",
              "      border-radius: 50%;\n",
              "      cursor: pointer;\n",
              "      display: none;\n",
              "      fill: #1967D2;\n",
              "      height: 32px;\n",
              "      padding: 0 0 0 0;\n",
              "      width: 32px;\n",
              "    }\n",
              "\n",
              "    .colab-df-convert:hover {\n",
              "      background-color: #E2EBFA;\n",
              "      box-shadow: 0px 1px 2px rgba(60, 64, 67, 0.3), 0px 1px 3px 1px rgba(60, 64, 67, 0.15);\n",
              "      fill: #174EA6;\n",
              "    }\n",
              "\n",
              "    .colab-df-buttons div {\n",
              "      margin-bottom: 4px;\n",
              "    }\n",
              "\n",
              "    [theme=dark] .colab-df-convert {\n",
              "      background-color: #3B4455;\n",
              "      fill: #D2E3FC;\n",
              "    }\n",
              "\n",
              "    [theme=dark] .colab-df-convert:hover {\n",
              "      background-color: #434B5C;\n",
              "      box-shadow: 0px 1px 3px 1px rgba(0, 0, 0, 0.15);\n",
              "      filter: drop-shadow(0px 1px 2px rgba(0, 0, 0, 0.3));\n",
              "      fill: #FFFFFF;\n",
              "    }\n",
              "  </style>\n",
              "\n",
              "    <script>\n",
              "      const buttonEl =\n",
              "        document.querySelector('#df-4b511cb9-2ae2-4743-949a-777b16792aa6 button.colab-df-convert');\n",
              "      buttonEl.style.display =\n",
              "        google.colab.kernel.accessAllowed ? 'block' : 'none';\n",
              "\n",
              "      async function convertToInteractive(key) {\n",
              "        const element = document.querySelector('#df-4b511cb9-2ae2-4743-949a-777b16792aa6');\n",
              "        const dataTable =\n",
              "          await google.colab.kernel.invokeFunction('convertToInteractive',\n",
              "                                                    [key], {});\n",
              "        if (!dataTable) return;\n",
              "\n",
              "        const docLinkHtml = 'Like what you see? Visit the ' +\n",
              "          '<a target=\"_blank\" href=https://colab.research.google.com/notebooks/data_table.ipynb>data table notebook</a>'\n",
              "          + ' to learn more about interactive tables.';\n",
              "        element.innerHTML = '';\n",
              "        dataTable['output_type'] = 'display_data';\n",
              "        await google.colab.output.renderOutput(dataTable, element);\n",
              "        const docLink = document.createElement('div');\n",
              "        docLink.innerHTML = docLinkHtml;\n",
              "        element.appendChild(docLink);\n",
              "      }\n",
              "    </script>\n",
              "  </div>\n",
              "\n",
              "    </div>\n",
              "  </div>\n"
            ]
          },
          "metadata": {},
          "execution_count": 132
        }
      ],
      "source": [
        "ga=df[(df.gender==df.gender)&(df.accountBalance==df.accountBalance.max())]\n",
        "ga"
      ]
    },
    {
      "cell_type": "markdown",
      "id": "d141d22d",
      "metadata": {
        "papermill": {
          "duration": 0.024891,
          "end_time": "2023-07-13T21:03:18.217811",
          "exception": false,
          "start_time": "2023-07-13T21:03:18.192920",
          "status": "completed"
        },
        "tags": [],
        "id": "d141d22d"
      },
      "source": [
        "### **How many customers have jobs but have no credits responded to the marketing campaign?**\n",
        "\n"
      ]
    },
    {
      "cell_type": "code",
      "execution_count": null,
      "id": "efc70afd",
      "metadata": {
        "execution": {
          "iopub.execute_input": "2023-07-13T21:03:18.263360Z",
          "iopub.status.busy": "2023-07-13T21:03:18.262750Z",
          "iopub.status.idle": "2023-07-13T21:03:18.315196Z",
          "shell.execute_reply": "2023-07-13T21:03:18.314173Z"
        },
        "id": "efc70afd",
        "outputId": "515c0562-a206-4522-dbba-a83706bf64c2",
        "papermill": {
          "duration": 0.077656,
          "end_time": "2023-07-13T21:03:18.317130",
          "exception": false,
          "start_time": "2023-07-13T21:03:18.239474",
          "status": "completed"
        },
        "tags": [],
        "colab": {
          "base_uri": "https://localhost:8080/"
        }
      },
      "outputs": [
        {
          "output_type": "stream",
          "name": "stdout",
          "text": [
            "Number of Customers : 473966\n"
          ]
        }
      ],
      "source": [
        "job=df[(df.job==df.job)&(df.credit==\"no\")]\n",
        "print(\"Number of Customers :\",job.count().sum())"
      ]
    },
    {
      "cell_type": "markdown",
      "id": "295efedf",
      "metadata": {
        "papermill": {
          "duration": 0.022208,
          "end_time": "2023-07-13T21:03:18.361558",
          "exception": false,
          "start_time": "2023-07-13T21:03:18.339350",
          "status": "completed"
        },
        "tags": [],
        "id": "295efedf"
      },
      "source": [
        "### **How many customers have jobs and credits responded to the marketing campaign?**"
      ]
    },
    {
      "cell_type": "code",
      "execution_count": null,
      "id": "75690bed",
      "metadata": {
        "execution": {
          "iopub.execute_input": "2023-07-13T21:03:18.406885Z",
          "iopub.status.busy": "2023-07-13T21:03:18.406513Z",
          "iopub.status.idle": "2023-07-13T21:03:18.428870Z",
          "shell.execute_reply": "2023-07-13T21:03:18.427928Z"
        },
        "id": "75690bed",
        "outputId": "7c8b3460-71d1-4c1d-9f49-1695ddcebf6f",
        "papermill": {
          "duration": 0.047381,
          "end_time": "2023-07-13T21:03:18.430854",
          "exception": false,
          "start_time": "2023-07-13T21:03:18.383473",
          "status": "completed"
        },
        "scrolled": true,
        "tags": [],
        "colab": {
          "base_uri": "https://localhost:8080/"
        }
      },
      "outputs": [
        {
          "output_type": "stream",
          "name": "stdout",
          "text": [
            "Number of Customers : 90058\n"
          ]
        }
      ],
      "source": [
        "job=df[(df.job==df.job)&(df.credit==\"yes\")]\n",
        "print(\"Number of Customers :\",job.count().sum())"
      ]
    },
    {
      "cell_type": "markdown",
      "id": "1b5c730b",
      "metadata": {
        "papermill": {
          "duration": 0.022112,
          "end_time": "2023-07-13T21:03:18.475056",
          "exception": false,
          "start_time": "2023-07-13T21:03:18.452944",
          "status": "completed"
        },
        "tags": [],
        "id": "1b5c730b"
      },
      "source": [
        "### **What best types of contact ?**"
      ]
    },
    {
      "cell_type": "code",
      "execution_count": null,
      "id": "451046d3",
      "metadata": {
        "execution": {
          "iopub.execute_input": "2023-07-13T21:03:18.522479Z",
          "iopub.status.busy": "2023-07-13T21:03:18.522113Z",
          "iopub.status.idle": "2023-07-13T21:03:18.802192Z",
          "shell.execute_reply": "2023-07-13T21:03:18.801178Z"
        },
        "id": "451046d3",
        "outputId": "ef8c46a5-770f-4f4b-ae46-cdb26d462cd3",
        "papermill": {
          "duration": 0.305785,
          "end_time": "2023-07-13T21:03:18.804485",
          "exception": false,
          "start_time": "2023-07-13T21:03:18.498700",
          "status": "completed"
        },
        "tags": [],
        "colab": {
          "base_uri": "https://localhost:8080/",
          "height": 582
        }
      },
      "outputs": [
        {
          "output_type": "execute_result",
          "data": {
            "text/plain": [
              "<Axes: title={'center': 'What best types of contact '}, xlabel='contactType', ylabel='count'>"
            ]
          },
          "metadata": {},
          "execution_count": 135
        },
        {
          "output_type": "display_data",
          "data": {
            "text/plain": [
              "<Figure size 800x600 with 1 Axes>"
            ],
            "image/png": "[encoded data removed]"
          },
          "metadata": {}
        }
      ],
      "source": [
        "data=df.copy()\n",
        "fig, ax=plt.subplots(figsize=(8,6)) # size figure\n",
        "ax.set_title(\"What best types of contact \")\n",
        "sns.countplot(x='contactType',data=data)"
      ]
    },
    {
      "cell_type": "markdown",
      "source": [
        "We note that the cell phone connection is much higher than the landline phone connection"
      ],
      "metadata": {
        "id": "6qd5U5duQuhu"
      },
      "id": "6qd5U5duQuhu"
    },
    {
      "cell_type": "markdown",
      "id": "2a961570",
      "metadata": {
        "papermill": {
          "duration": 0.022245,
          "end_time": "2023-07-13T21:03:18.849195",
          "exception": false,
          "start_time": "2023-07-13T21:03:18.826950",
          "status": "completed"
        },
        "tags": [],
        "id": "2a961570"
      },
      "source": [
        "# **Prediction model**"
      ]
    },
    {
      "cell_type": "markdown",
      "id": "d03a2640",
      "metadata": {
        "id": "d03a2640",
        "papermill": {
          "duration": 0.022283,
          "end_time": "2023-07-13T21:03:18.894177",
          "exception": false,
          "start_time": "2023-07-13T21:03:18.871894",
          "status": "completed"
        },
        "tags": []
      },
      "source": [
        "## **Feature Enginering**"
      ]
    },
    {
      "cell_type": "markdown",
      "id": "33f5af11",
      "metadata": {
        "papermill": {
          "duration": 0.02081,
          "end_time": "2023-07-13T21:03:17.170727",
          "exception": false,
          "start_time": "2023-07-13T21:03:17.149917",
          "status": "completed"
        },
        "tags": [],
        "id": "33f5af11"
      },
      "source": [
        "### **Calculate the percentage of nulls values**"
      ]
    },
    {
      "cell_type": "code",
      "execution_count": null,
      "id": "c2333cdb",
      "metadata": {
        "execution": {
          "iopub.execute_input": "2023-07-13T21:03:17.215010Z",
          "iopub.status.busy": "2023-07-13T21:03:17.214621Z",
          "iopub.status.idle": "2023-07-13T21:03:17.220479Z",
          "shell.execute_reply": "2023-07-13T21:03:17.219498Z"
        },
        "id": "c2333cdb",
        "outputId": "72deb0db-c99f-4712-ff0a-5d7dc12bd6a2",
        "papermill": {
          "duration": 0.03109,
          "end_time": "2023-07-13T21:03:17.222885",
          "exception": false,
          "start_time": "2023-07-13T21:03:17.191795",
          "status": "completed"
        },
        "scrolled": true,
        "tags": [],
        "colab": {
          "base_uri": "https://localhost:8080/"
        }
      },
      "outputs": [
        {
          "output_type": "stream",
          "name": "stdout",
          "text": [
            "job 0.0067 % missing values\n",
            "education 0.0413 % missing values\n",
            "contactType 0.2884 % missing values\n",
            "daySinceLastCampaign 0.8177 % missing values\n",
            "lastCampaignResult 0.8179 % missing values\n"
          ]
        }
      ],
      "source": [
        "## Here we will check the percentage of nan values present in each feature\n",
        "## 1 -step make the list of features which has missing values\n",
        "features_with_na=[features for features in df.columns if df[features].isnull().sum()>1]\n",
        "## 2- step print the feature name and the percentage of missing values\n",
        "\n",
        "for feature in features_with_na:\n",
        "    print(feature, np.round(df[feature].isnull().mean(), 4),'% missing values')"
      ]
    },
    {
      "cell_type": "markdown",
      "source": [
        "We note that the percentage of null data is daySinceLastCampaign 0.8175% missing values lastCampaignResult 0.8176% missing values We drop these columns due to the high percentage of null values and Remove contactId, id because is not important"
      ],
      "metadata": {
        "id": "0sARKK1U444i"
      },
      "id": "0sARKK1U444i"
    },
    {
      "cell_type": "markdown",
      "id": "a4a986f3",
      "metadata": {
        "papermill": {
          "duration": 0.022158,
          "end_time": "2023-07-13T21:03:17.266926",
          "exception": false,
          "start_time": "2023-07-13T21:03:17.244768",
          "status": "completed"
        },
        "tags": [],
        "id": "a4a986f3"
      },
      "source": [
        "### **Select all data except daySinceLast Campaign, lastCampaignResult, Id, and contactId**"
      ]
    },
    {
      "cell_type": "code",
      "source": [
        "df.copy()\n",
        "data=data.drop([\"daySinceLastCampaign\",\"lastCampaignResult\",\"id\",\"contactId\"], axis=1)"
      ],
      "metadata": {
        "id": "zEvDrjTM7h6x"
      },
      "id": "zEvDrjTM7h6x",
      "execution_count": null,
      "outputs": []
    },
    {
      "cell_type": "markdown",
      "id": "2be55de5",
      "metadata": {
        "papermill": {
          "duration": 0.02258,
          "end_time": "2023-07-13T21:03:18.939061",
          "exception": false,
          "start_time": "2023-07-13T21:03:18.916481",
          "status": "completed"
        },
        "tags": [],
        "id": "2be55de5"
      },
      "source": [
        "Now we replace yes to 1 and no to 0 in target"
      ]
    },
    {
      "cell_type": "code",
      "execution_count": null,
      "id": "7d9edf2b",
      "metadata": {
        "execution": {
          "iopub.execute_input": "2023-07-13T21:03:18.986947Z",
          "iopub.status.busy": "2023-07-13T21:03:18.986579Z",
          "iopub.status.idle": "2023-07-13T21:03:19.003262Z",
          "shell.execute_reply": "2023-07-13T21:03:19.002225Z"
        },
        "id": "7d9edf2b",
        "papermill": {
          "duration": 0.042728,
          "end_time": "2023-07-13T21:03:19.005266",
          "exception": false,
          "start_time": "2023-07-13T21:03:18.962538",
          "status": "completed"
        },
        "tags": []
      },
      "outputs": [],
      "source": [
        "target_new = {\"target\": {\"yes\": 1, \"no\": 0}}\n",
        "data.replace(target_new, inplace=True)"
      ]
    },
    {
      "cell_type": "markdown",
      "id": "0c5c28f9",
      "metadata": {
        "papermill": {
          "duration": 0.022428,
          "end_time": "2023-07-13T21:03:19.050362",
          "exception": false,
          "start_time": "2023-07-13T21:03:19.027934",
          "status": "completed"
        },
        "tags": [],
        "id": "0c5c28f9"
      },
      "source": [
        "### **Change Categorical Feature to Numerical Feature and merge columns**\n",
        "\n",
        "\n",
        "\n"
      ]
    },
    {
      "cell_type": "code",
      "execution_count": null,
      "id": "5b35f9fe",
      "metadata": {
        "execution": {
          "iopub.execute_input": "2023-07-13T21:03:19.097036Z",
          "iopub.status.busy": "2023-07-13T21:03:19.096699Z",
          "iopub.status.idle": "2023-07-13T21:03:19.195116Z",
          "shell.execute_reply": "2023-07-13T21:03:19.194246Z"
        },
        "id": "5b35f9fe",
        "papermill": {
          "duration": 0.124559,
          "end_time": "2023-07-13T21:03:19.197462",
          "exception": false,
          "start_time": "2023-07-13T21:03:19.072903",
          "status": "completed"
        },
        "tags": [],
        "colab": {
          "base_uri": "https://localhost:8080/",
          "height": 443
        },
        "outputId": "616c45a9-91a8-4705-8824-a44f71f2e9ca"
      },
      "outputs": [
        {
          "output_type": "execute_result",
          "data": {
            "text/plain": [
              "       target  day  duration  age  accountBalance  numberOfContacts  \\\n",
              "0           0   27       166   30            -202                 2   \n",
              "1           0   26       183   42            2463                 2   \n",
              "2           0    5       227   26            2158                 1   \n",
              "3           0    2        31   34              75                 3   \n",
              "4           0   15      1231   48             559                 2   \n",
              "...       ...  ...       ...  ...             ...               ...   \n",
              "31475       1   30      1628   58            3399                 2   \n",
              "31476       0   21       173   40             858                 1   \n",
              "31477       0   17       422   51            1414                 3   \n",
              "31478       0   29        69   30               1                21   \n",
              "31479       0    2       171   50               8                 2   \n",
              "\n",
              "       numberOfContactsLastCampaign  month  gender   job  maritalStatus  \\\n",
              "0                                 0    4.0     0.0  10.0            1.0   \n",
              "1                                 0    9.0     0.0   3.0            1.0   \n",
              "2                                 0    5.0     0.0   6.0            2.0   \n",
              "3                                 0    5.0     1.0   9.0            0.0   \n",
              "4                                 0    4.0     1.0  10.0            1.0   \n",
              "...                             ...    ...     ...   ...            ...   \n",
              "31475                             8   10.0     0.0   8.0            1.0   \n",
              "31476                             0    4.0     0.0   3.0            2.0   \n",
              "31477                             2   10.0     0.0  10.0            1.0   \n",
              "31478                             0    7.0     1.0   8.0            1.0   \n",
              "31479                             1    1.0     1.0   8.0            0.0   \n",
              "\n",
              "       education  creditFailure  house  credit  contactType  \n",
              "0            0.0            0.0    0.0     0.0     0.091424  \n",
              "1            2.0            0.0    0.0     0.0     0.000000  \n",
              "2            0.0            0.0    1.0     1.0     1.000000  \n",
              "3            2.0            1.0    1.0     0.0     0.091424  \n",
              "4            1.0            0.0    1.0     0.0     0.091424  \n",
              "...          ...            ...    ...     ...          ...  \n",
              "31475        0.0            0.0    0.0     0.0     1.000000  \n",
              "31476        1.0            0.0    1.0     0.0     0.091424  \n",
              "31477        0.0            0.0    1.0     0.0     0.091424  \n",
              "31478        2.0            0.0    0.0     0.0     0.000000  \n",
              "31479        0.0            0.0    0.0     0.0     0.000000  \n",
              "\n",
              "[31480 rows x 16 columns]"
            ],
            "text/html": [
              "\n",
              "  <div id=\"df-26638048-a546-42d6-9403-2276db6e0f4a\" class=\"colab-df-container\">\n",
              "    <div>\n",
              "<style scoped>\n",
              "    .dataframe tbody tr th:only-of-type {\n",
              "        vertical-align: middle;\n",
              "    }\n",
              "\n",
              "    .dataframe tbody tr th {\n",
              "        vertical-align: top;\n",
              "    }\n",
              "\n",
              "    .dataframe thead th {\n",
              "        text-align: right;\n",
              "    }\n",
              "</style>\n",
              "<table border=\"1\" class=\"dataframe\">\n",
              "  <thead>\n",
              "    <tr style=\"text-align: right;\">\n",
              "      <th></th>\n",
              "      <th>target</th>\n",
              "      <th>day</th>\n",
              "      <th>duration</th>\n",
              "      <th>age</th>\n",
              "      <th>accountBalance</th>\n",
              "      <th>numberOfContacts</th>\n",
              "      <th>numberOfContactsLastCampaign</th>\n",
              "      <th>month</th>\n",
              "      <th>gender</th>\n",
              "      <th>job</th>\n",
              "      <th>maritalStatus</th>\n",
              "      <th>education</th>\n",
              "      <th>creditFailure</th>\n",
              "      <th>house</th>\n",
              "      <th>credit</th>\n",
              "      <th>contactType</th>\n",
              "    </tr>\n",
              "  </thead>\n",
              "  <tbody>\n",
              "    <tr>\n",
              "      <th>0</th>\n",
              "      <td>0</td>\n",
              "      <td>27</td>\n",
              "      <td>166</td>\n",
              "      <td>30</td>\n",
              "      <td>-202</td>\n",
              "      <td>2</td>\n",
              "      <td>0</td>\n",
              "      <td>4.0</td>\n",
              "      <td>0.0</td>\n",
              "      <td>10.0</td>\n",
              "      <td>1.0</td>\n",
              "      <td>0.0</td>\n",
              "      <td>0.0</td>\n",
              "      <td>0.0</td>\n",
              "      <td>0.0</td>\n",
              "      <td>0.091424</td>\n",
              "    </tr>\n",
              "    <tr>\n",
              "      <th>1</th>\n",
              "      <td>0</td>\n",
              "      <td>26</td>\n",
              "      <td>183</td>\n",
              "      <td>42</td>\n",
              "      <td>2463</td>\n",
              "      <td>2</td>\n",
              "      <td>0</td>\n",
              "      <td>9.0</td>\n",
              "      <td>0.0</td>\n",
              "      <td>3.0</td>\n",
              "      <td>1.0</td>\n",
              "      <td>2.0</td>\n",
              "      <td>0.0</td>\n",
              "      <td>0.0</td>\n",
              "      <td>0.0</td>\n",
              "      <td>0.000000</td>\n",
              "    </tr>\n",
              "    <tr>\n",
              "      <th>2</th>\n",
              "      <td>0</td>\n",
              "      <td>5</td>\n",
              "      <td>227</td>\n",
              "      <td>26</td>\n",
              "      <td>2158</td>\n",
              "      <td>1</td>\n",
              "      <td>0</td>\n",
              "      <td>5.0</td>\n",
              "      <td>0.0</td>\n",
              "      <td>6.0</td>\n",
              "      <td>2.0</td>\n",
              "      <td>0.0</td>\n",
              "      <td>0.0</td>\n",
              "      <td>1.0</td>\n",
              "      <td>1.0</td>\n",
              "      <td>1.000000</td>\n",
              "    </tr>\n",
              "    <tr>\n",
              "      <th>3</th>\n",
              "      <td>0</td>\n",
              "      <td>2</td>\n",
              "      <td>31</td>\n",
              "      <td>34</td>\n",
              "      <td>75</td>\n",
              "      <td>3</td>\n",
              "      <td>0</td>\n",
              "      <td>5.0</td>\n",
              "      <td>1.0</td>\n",
              "      <td>9.0</td>\n",
              "      <td>0.0</td>\n",
              "      <td>2.0</td>\n",
              "      <td>1.0</td>\n",
              "      <td>1.0</td>\n",
              "      <td>0.0</td>\n",
              "      <td>0.091424</td>\n",
              "    </tr>\n",
              "    <tr>\n",
              "      <th>4</th>\n",
              "      <td>0</td>\n",
              "      <td>15</td>\n",
              "      <td>1231</td>\n",
              "      <td>48</td>\n",
              "      <td>559</td>\n",
              "      <td>2</td>\n",
              "      <td>0</td>\n",
              "      <td>4.0</td>\n",
              "      <td>1.0</td>\n",
              "      <td>10.0</td>\n",
              "      <td>1.0</td>\n",
              "      <td>1.0</td>\n",
              "      <td>0.0</td>\n",
              "      <td>1.0</td>\n",
              "      <td>0.0</td>\n",
              "      <td>0.091424</td>\n",
              "    </tr>\n",
              "    <tr>\n",
              "      <th>...</th>\n",
              "      <td>...</td>\n",
              "      <td>...</td>\n",
              "      <td>...</td>\n",
              "      <td>...</td>\n",
              "      <td>...</td>\n",
              "      <td>...</td>\n",
              "      <td>...</td>\n",
              "      <td>...</td>\n",
              "      <td>...</td>\n",
              "      <td>...</td>\n",
              "      <td>...</td>\n",
              "      <td>...</td>\n",
              "      <td>...</td>\n",
              "      <td>...</td>\n",
              "      <td>...</td>\n",
              "      <td>...</td>\n",
              "    </tr>\n",
              "    <tr>\n",
              "      <th>31475</th>\n",
              "      <td>1</td>\n",
              "      <td>30</td>\n",
              "      <td>1628</td>\n",
              "      <td>58</td>\n",
              "      <td>3399</td>\n",
              "      <td>2</td>\n",
              "      <td>8</td>\n",
              "      <td>10.0</td>\n",
              "      <td>0.0</td>\n",
              "      <td>8.0</td>\n",
              "      <td>1.0</td>\n",
              "      <td>0.0</td>\n",
              "      <td>0.0</td>\n",
              "      <td>0.0</td>\n",
              "      <td>0.0</td>\n",
              "      <td>1.000000</td>\n",
              "    </tr>\n",
              "    <tr>\n",
              "      <th>31476</th>\n",
              "      <td>0</td>\n",
              "      <td>21</td>\n",
              "      <td>173</td>\n",
              "      <td>40</td>\n",
              "      <td>858</td>\n",
              "      <td>1</td>\n",
              "      <td>0</td>\n",
              "      <td>4.0</td>\n",
              "      <td>0.0</td>\n",
              "      <td>3.0</td>\n",
              "      <td>2.0</td>\n",
              "      <td>1.0</td>\n",
              "      <td>0.0</td>\n",
              "      <td>1.0</td>\n",
              "      <td>0.0</td>\n",
              "      <td>0.091424</td>\n",
              "    </tr>\n",
              "    <tr>\n",
              "      <th>31477</th>\n",
              "      <td>0</td>\n",
              "      <td>17</td>\n",
              "      <td>422</td>\n",
              "      <td>51</td>\n",
              "      <td>1414</td>\n",
              "      <td>3</td>\n",
              "      <td>2</td>\n",
              "      <td>10.0</td>\n",
              "      <td>0.0</td>\n",
              "      <td>10.0</td>\n",
              "      <td>1.0</td>\n",
              "      <td>0.0</td>\n",
              "      <td>0.0</td>\n",
              "      <td>1.0</td>\n",
              "      <td>0.0</td>\n",
              "      <td>0.091424</td>\n",
              "    </tr>\n",
              "    <tr>\n",
              "      <th>31478</th>\n",
              "      <td>0</td>\n",
              "      <td>29</td>\n",
              "      <td>69</td>\n",
              "      <td>30</td>\n",
              "      <td>1</td>\n",
              "      <td>21</td>\n",
              "      <td>0</td>\n",
              "      <td>7.0</td>\n",
              "      <td>1.0</td>\n",
              "      <td>8.0</td>\n",
              "      <td>1.0</td>\n",
              "      <td>2.0</td>\n",
              "      <td>0.0</td>\n",
              "      <td>0.0</td>\n",
              "      <td>0.0</td>\n",
              "      <td>0.000000</td>\n",
              "    </tr>\n",
              "    <tr>\n",
              "      <th>31479</th>\n",
              "      <td>0</td>\n",
              "      <td>2</td>\n",
              "      <td>171</td>\n",
              "      <td>50</td>\n",
              "      <td>8</td>\n",
              "      <td>2</td>\n",
              "      <td>1</td>\n",
              "      <td>1.0</td>\n",
              "      <td>1.0</td>\n",
              "      <td>8.0</td>\n",
              "      <td>0.0</td>\n",
              "      <td>0.0</td>\n",
              "      <td>0.0</td>\n",
              "      <td>0.0</td>\n",
              "      <td>0.0</td>\n",
              "      <td>0.000000</td>\n",
              "    </tr>\n",
              "  </tbody>\n",
              "</table>\n",
              "<p>31480 rows × 16 columns</p>\n",
              "</div>\n",
              "    <div class=\"colab-df-buttons\">\n",
              "\n",
              "  <div class=\"colab-df-container\">\n",
              "    <button class=\"colab-df-convert\" onclick=\"convertToInteractive('df-26638048-a546-42d6-9403-2276db6e0f4a')\"\n",
              "            title=\"Convert this dataframe to an interactive table.\"\n",
              "            style=\"display:none;\">\n",
              "\n",
              "  <svg xmlns=\"http://www.w3.org/2000/svg\" height=\"24px\" viewBox=\"0 -960 960 960\">\n",
              "    <path d=\"M120-120v-720h720v720H120Zm60-500h600v-160H180v160Zm220 220h160v-160H400v160Zm0 220h160v-160H400v160ZM180-400h160v-160H180v160Zm440 0h160v-160H620v160ZM180-180h160v-160H180v160Zm440 0h160v-160H620v160Z\"/>\n",
              "  </svg>\n",
              "    </button>\n",
              "\n",
              "  <style>\n",
              "    .colab-df-container {\n",
              "      display:flex;\n",
              "      gap: 12px;\n",
              "    }\n",
              "\n",
              "    .colab-df-convert {\n",
              "      background-color: #E8F0FE;\n",
              "      border: none;\n",
              "      border-radius: 50%;\n",
              "      cursor: pointer;\n",
              "      display: none;\n",
              "      fill: #1967D2;\n",
              "      height: 32px;\n",
              "      padding: 0 0 0 0;\n",
              "      width: 32px;\n",
              "    }\n",
              "\n",
              "    .colab-df-convert:hover {\n",
              "      background-color: #E2EBFA;\n",
              "      box-shadow: 0px 1px 2px rgba(60, 64, 67, 0.3), 0px 1px 3px 1px rgba(60, 64, 67, 0.15);\n",
              "      fill: #174EA6;\n",
              "    }\n",
              "\n",
              "    .colab-df-buttons div {\n",
              "      margin-bottom: 4px;\n",
              "    }\n",
              "\n",
              "    [theme=dark] .colab-df-convert {\n",
              "      background-color: #3B4455;\n",
              "      fill: #D2E3FC;\n",
              "    }\n",
              "\n",
              "    [theme=dark] .colab-df-convert:hover {\n",
              "      background-color: #434B5C;\n",
              "      box-shadow: 0px 1px 3px 1px rgba(0, 0, 0, 0.15);\n",
              "      filter: drop-shadow(0px 1px 2px rgba(0, 0, 0, 0.3));\n",
              "      fill: #FFFFFF;\n",
              "    }\n",
              "  </style>\n",
              "\n",
              "    <script>\n",
              "      const buttonEl =\n",
              "        document.querySelector('#df-26638048-a546-42d6-9403-2276db6e0f4a button.colab-df-convert');\n",
              "      buttonEl.style.display =\n",
              "        google.colab.kernel.accessAllowed ? 'block' : 'none';\n",
              "\n",
              "      async function convertToInteractive(key) {\n",
              "        const element = document.querySelector('#df-26638048-a546-42d6-9403-2276db6e0f4a');\n",
              "        const dataTable =\n",
              "          await google.colab.kernel.invokeFunction('convertToInteractive',\n",
              "                                                    [key], {});\n",
              "        if (!dataTable) return;\n",
              "\n",
              "        const docLinkHtml = 'Like what you see? Visit the ' +\n",
              "          '<a target=\"_blank\" href=https://colab.research.google.com/notebooks/data_table.ipynb>data table notebook</a>'\n",
              "          + ' to learn more about interactive tables.';\n",
              "        element.innerHTML = '';\n",
              "        dataTable['output_type'] = 'display_data';\n",
              "        await google.colab.output.renderOutput(dataTable, element);\n",
              "        const docLink = document.createElement('div');\n",
              "        docLink.innerHTML = docLinkHtml;\n",
              "        element.appendChild(docLink);\n",
              "      }\n",
              "    </script>\n",
              "  </div>\n",
              "\n",
              "\n",
              "<div id=\"df-bb804e04-bef1-4e97-b2bb-a2656866c975\">\n",
              "  <button class=\"colab-df-quickchart\" onclick=\"quickchart('df-bb804e04-bef1-4e97-b2bb-a2656866c975')\"\n",
              "            title=\"Suggest charts.\"\n",
              "            style=\"display:none;\">\n",
              "\n",
              "<svg xmlns=\"http://www.w3.org/2000/svg\" height=\"24px\"viewBox=\"0 0 24 24\"\n",
              "     width=\"24px\">\n",
              "    <g>\n",
              "        <path d=\"M19 3H5c-1.1 0-2 .9-2 2v14c0 1.1.9 2 2 2h14c1.1 0 2-.9 2-2V5c0-1.1-.9-2-2-2zM9 17H7v-7h2v7zm4 0h-2V7h2v10zm4 0h-2v-4h2v4z\"/>\n",
              "    </g>\n",
              "</svg>\n",
              "  </button>\n",
              "\n",
              "<style>\n",
              "  .colab-df-quickchart {\n",
              "      --bg-color: #E8F0FE;\n",
              "      --fill-color: #1967D2;\n",
              "      --hover-bg-color: #E2EBFA;\n",
              "      --hover-fill-color: #174EA6;\n",
              "      --disabled-fill-color: #AAA;\n",
              "      --disabled-bg-color: #DDD;\n",
              "  }\n",
              "\n",
              "  [theme=dark] .colab-df-quickchart {\n",
              "      --bg-color: #3B4455;\n",
              "      --fill-color: #D2E3FC;\n",
              "      --hover-bg-color: #434B5C;\n",
              "      --hover-fill-color: #FFFFFF;\n",
              "      --disabled-bg-color: #3B4455;\n",
              "      --disabled-fill-color: #666;\n",
              "  }\n",
              "\n",
              "  .colab-df-quickchart {\n",
              "    background-color: var(--bg-color);\n",
              "    border: none;\n",
              "    border-radius: 50%;\n",
              "    cursor: pointer;\n",
              "    display: none;\n",
              "    fill: var(--fill-color);\n",
              "    height: 32px;\n",
              "    padding: 0;\n",
              "    width: 32px;\n",
              "  }\n",
              "\n",
              "  .colab-df-quickchart:hover {\n",
              "    background-color: var(--hover-bg-color);\n",
              "    box-shadow: 0 1px 2px rgba(60, 64, 67, 0.3), 0 1px 3px 1px rgba(60, 64, 67, 0.15);\n",
              "    fill: var(--button-hover-fill-color);\n",
              "  }\n",
              "\n",
              "  .colab-df-quickchart-complete:disabled,\n",
              "  .colab-df-quickchart-complete:disabled:hover {\n",
              "    background-color: var(--disabled-bg-color);\n",
              "    fill: var(--disabled-fill-color);\n",
              "    box-shadow: none;\n",
              "  }\n",
              "\n",
              "  .colab-df-spinner {\n",
              "    border: 2px solid var(--fill-color);\n",
              "    border-color: transparent;\n",
              "    border-bottom-color: var(--fill-color);\n",
              "    animation:\n",
              "      spin 1s steps(1) infinite;\n",
              "  }\n",
              "\n",
              "  @keyframes spin {\n",
              "    0% {\n",
              "      border-color: transparent;\n",
              "      border-bottom-color: var(--fill-color);\n",
              "      border-left-color: var(--fill-color);\n",
              "    }\n",
              "    20% {\n",
              "      border-color: transparent;\n",
              "      border-left-color: var(--fill-color);\n",
              "      border-top-color: var(--fill-color);\n",
              "    }\n",
              "    30% {\n",
              "      border-color: transparent;\n",
              "      border-left-color: var(--fill-color);\n",
              "      border-top-color: var(--fill-color);\n",
              "      border-right-color: var(--fill-color);\n",
              "    }\n",
              "    40% {\n",
              "      border-color: transparent;\n",
              "      border-right-color: var(--fill-color);\n",
              "      border-top-color: var(--fill-color);\n",
              "    }\n",
              "    60% {\n",
              "      border-color: transparent;\n",
              "      border-right-color: var(--fill-color);\n",
              "    }\n",
              "    80% {\n",
              "      border-color: transparent;\n",
              "      border-right-color: var(--fill-color);\n",
              "      border-bottom-color: var(--fill-color);\n",
              "    }\n",
              "    90% {\n",
              "      border-color: transparent;\n",
              "      border-bottom-color: var(--fill-color);\n",
              "    }\n",
              "  }\n",
              "</style>\n",
              "\n",
              "  <script>\n",
              "    async function quickchart(key) {\n",
              "      const quickchartButtonEl =\n",
              "        document.querySelector('#' + key + ' button');\n",
              "      quickchartButtonEl.disabled = true;  // To prevent multiple clicks.\n",
              "      quickchartButtonEl.classList.add('colab-df-spinner');\n",
              "      try {\n",
              "        const charts = await google.colab.kernel.invokeFunction(\n",
              "            'suggestCharts', [key], {});\n",
              "      } catch (error) {\n",
              "        console.error('Error during call to suggestCharts:', error);\n",
              "      }\n",
              "      quickchartButtonEl.classList.remove('colab-df-spinner');\n",
              "      quickchartButtonEl.classList.add('colab-df-quickchart-complete');\n",
              "    }\n",
              "    (() => {\n",
              "      let quickchartButtonEl =\n",
              "        document.querySelector('#df-bb804e04-bef1-4e97-b2bb-a2656866c975 button');\n",
              "      quickchartButtonEl.style.display =\n",
              "        google.colab.kernel.accessAllowed ? 'block' : 'none';\n",
              "    })();\n",
              "  </script>\n",
              "</div>\n",
              "    </div>\n",
              "  </div>\n"
            ]
          },
          "metadata": {},
          "execution_count": 139
        }
      ],
      "source": [
        "#select all Categorical Features\n",
        "cat=data.select_dtypes(include=[\"object\"])\n",
        "#import OrdinalEncoder\n",
        "from sklearn.preprocessing import OrdinalEncoder\n",
        "enc=OrdinalEncoder()\n",
        "Cat=enc.fit_transform(cat)\n",
        "cat=pd.DataFrame(Cat,columns=cat.columns)\n",
        "#select all Numerical Features\n",
        "num=data.select_dtypes(exclude=[\"object\"])\n",
        "#marge Categorical Feature and Numerical Feature\n",
        "data1=pd.concat([num,cat], axis=\"columns\")\n",
        "#replace null values to mean values\n",
        "data1.fillna(data1.mean(),inplace=True)\n",
        "data1"
      ]
    },
    {
      "cell_type": "markdown",
      "id": "baea8056",
      "metadata": {
        "papermill": {
          "duration": 0.022462,
          "end_time": "2023-07-13T21:03:19.289507",
          "exception": false,
          "start_time": "2023-07-13T21:03:19.267045",
          "status": "completed"
        },
        "tags": [],
        "id": "baea8056"
      },
      "source": [
        "### **Imbalanced data**"
      ]
    },
    {
      "cell_type": "markdown",
      "id": "2868973c",
      "metadata": {
        "papermill": {
          "duration": 0.022674,
          "end_time": "2023-07-13T21:03:19.334778",
          "exception": false,
          "start_time": "2023-07-13T21:03:19.312104",
          "status": "completed"
        },
        "tags": [],
        "id": "2868973c"
      },
      "source": [
        "Imbalanced data In simple terms, an unbalanced dataset is one in which the target variable has more observations in one specific class than the others."
      ]
    },
    {
      "cell_type": "markdown",
      "id": "b9e53f88",
      "metadata": {
        "papermill": {
          "duration": 0.022575,
          "end_time": "2023-07-13T21:03:19.380041",
          "exception": false,
          "start_time": "2023-07-13T21:03:19.357466",
          "status": "completed"
        },
        "tags": [],
        "id": "b9e53f88"
      },
      "source": [
        "now create a pie chart to select whether data is balanced or not"
      ]
    },
    {
      "cell_type": "code",
      "execution_count": null,
      "id": "93c8b384",
      "metadata": {
        "execution": {
          "iopub.execute_input": "2023-07-13T21:03:19.427329Z",
          "iopub.status.busy": "2023-07-13T21:03:19.426658Z",
          "iopub.status.idle": "2023-07-13T21:03:19.584097Z",
          "shell.execute_reply": "2023-07-13T21:03:19.582901Z"
        },
        "id": "93c8b384",
        "papermill": {
          "duration": 0.183954,
          "end_time": "2023-07-13T21:03:19.586512",
          "exception": false,
          "start_time": "2023-07-13T21:03:19.402558",
          "status": "completed"
        },
        "tags": [],
        "colab": {
          "base_uri": "https://localhost:8080/",
          "height": 679
        },
        "outputId": "7f4304a0-5078-4867-b353-94eb30f036d7"
      },
      "outputs": [
        {
          "output_type": "display_data",
          "data": {
            "text/plain": [
              "<Figure size 800x1000 with 1 Axes>"
            ],
            "image/png": "[encoded data removed]"
          },
          "metadata": {}
        }
      ],
      "source": [
        "job_counts = df['target'].value_counts()\n",
        "job_counts.plot(kind='pie', title='Target before balanced data',autopct='%.2f %%', figsize=(8,10))\n",
        "plt.show()"
      ]
    },
    {
      "cell_type": "markdown",
      "id": "853a6eb7",
      "metadata": {
        "papermill": {
          "duration": 0.023042,
          "end_time": "2023-07-13T21:03:19.679604",
          "exception": false,
          "start_time": "2023-07-13T21:03:19.656562",
          "status": "completed"
        },
        "tags": [],
        "id": "853a6eb7"
      },
      "source": [
        "Data is Imbalanced We use a technique called Random Over Sampling (ROS) is a technique used to address the problem of imbalanced datasets in machine learning. Imbalanced datasets occur when one class (the majority class) has significantly more samples than another class (the minority class). This can lead to machine learning models that are biased towards the majority class and perform poorly on the minority class.\n",
        "\n",
        "ROS works by randomly duplicating samples from the minority class, with replacements, until the desired class balance is achieved. This means that some samples from the minority class may be duplicated multiple times, while others may not be duplicated at all."
      ]
    },
    {
      "cell_type": "markdown",
      "id": "63f9cc66",
      "metadata": {
        "papermill": {
          "duration": 0.022221,
          "end_time": "2023-07-13T21:03:19.242610",
          "exception": false,
          "start_time": "2023-07-13T21:03:19.220389",
          "status": "completed"
        },
        "tags": [],
        "id": "63f9cc66"
      },
      "source": [
        "First, we will divide the data into two categories: features and target, create X and y, and transform it into an array for ease of dealing with machine learning,x is all values except target and y  is a target"
      ]
    },
    {
      "cell_type": "code",
      "execution_count": null,
      "id": "2d360076",
      "metadata": {
        "execution": {
          "iopub.execute_input": "2023-07-13T21:03:19.728056Z",
          "iopub.status.busy": "2023-07-13T21:03:19.727362Z",
          "iopub.status.idle": "2023-07-13T21:03:19.757378Z",
          "shell.execute_reply": "2023-07-13T21:03:19.756037Z"
        },
        "papermill": {
          "duration": 0.056792,
          "end_time": "2023-07-13T21:03:19.759357",
          "exception": false,
          "start_time": "2023-07-13T21:03:19.702565",
          "status": "completed"
        },
        "scrolled": true,
        "tags": [],
        "id": "2d360076"
      },
      "outputs": [],
      "source": [
        "X=np.array(data1.drop(['target'], axis=1))\n",
        "y=np.array(data1[\"target\"])"
      ]
    },
    {
      "cell_type": "markdown",
      "id": "c7c9eca8",
      "metadata": {
        "papermill": {
          "duration": 0.023034,
          "end_time": "2023-07-13T21:03:19.633200",
          "exception": false,
          "start_time": "2023-07-13T21:03:19.610166",
          "status": "completed"
        },
        "tags": [],
        "id": "c7c9eca8"
      },
      "source": [
        "After knowing the data is imbalanced we use the imbalanced technique Random Over Sampling\n",
        "using imblearn library and split data to trian 80% and test 20%"
      ]
    },
    {
      "cell_type": "code",
      "execution_count": null,
      "id": "f254636d",
      "metadata": {
        "execution": {
          "iopub.execute_input": "2023-07-13T21:03:19.808324Z",
          "iopub.status.busy": "2023-07-13T21:03:19.807406Z",
          "iopub.status.idle": "2023-07-13T21:03:20.141890Z",
          "shell.execute_reply": "2023-07-13T21:03:20.141031Z"
        },
        "id": "f254636d",
        "papermill": {
          "duration": 0.361461,
          "end_time": "2023-07-13T21:03:20.144346",
          "exception": false,
          "start_time": "2023-07-13T21:03:19.782885",
          "status": "completed"
        },
        "tags": []
      },
      "outputs": [],
      "source": [
        "from imblearn.over_sampling import RandomOverSampler\n",
        "ros = RandomOverSampler(sampling_strategy=1) # Numerical value\n",
        "X_res, y_res = ros.fit_resample(X,y)\n",
        "#split data to train and test\n",
        "# recall from sklearn.model_selection import train_test_split in sklearn\n",
        "# split data to trian 80% and test 20% random_state=42\n",
        "x_train, x_test, y_train, y_test = train_test_split(X_res, y_res, test_size=0.2,random_state=42)"
      ]
    },
    {
      "cell_type": "markdown",
      "source": [
        "Now we check whether the data is balanced or not"
      ],
      "metadata": {
        "id": "crDIE2pTEgAT"
      },
      "id": "crDIE2pTEgAT"
    },
    {
      "cell_type": "code",
      "source": [
        "t=pd.DataFrame(y_train)\n",
        "job_counts = t.value_counts()\n",
        "job_counts.plot(kind='pie', title='Target after balanced data',autopct='%.2f %%', figsize=(8,10))\n",
        "plt.show()"
      ],
      "metadata": {
        "colab": {
          "base_uri": "https://localhost:8080/",
          "height": 679
        },
        "id": "xJI_CN9ZJiVr",
        "outputId": "7392e7c6-3e4c-4651-f8d0-54de0adf4f8b"
      },
      "id": "xJI_CN9ZJiVr",
      "execution_count": null,
      "outputs": [
        {
          "output_type": "display_data",
          "data": {
            "text/plain": [
              "<Figure size 800x1000 with 1 Axes>"
            ],
            "image/png": "[encoded data removed]"
          },
          "metadata": {}
        }
      ]
    },
    {
      "cell_type": "markdown",
      "source": [
        "Great, the data is balanced, the number of target data is almost equal"
      ],
      "metadata": {
        "id": "61NwnNFiy6Vv"
      },
      "id": "61NwnNFiy6Vv"
    },
    {
      "cell_type": "markdown",
      "source": [
        "### **Feature Scaling**"
      ],
      "metadata": {
        "id": "l34q1jZtzgNW"
      },
      "id": "l34q1jZtzgNW"
    },
    {
      "cell_type": "markdown",
      "source": [
        "Now we will use the scaling feature to make the data the same size to improve the result of the prediction model"
      ],
      "metadata": {
        "id": "5OdKxw2YUKa0"
      },
      "id": "5OdKxw2YUKa0"
    },
    {
      "cell_type": "code",
      "source": [
        "from sklearn.preprocessing import scale\n",
        "X_train=scale(x_train)\n",
        "X_test=scale(x_test)"
      ],
      "metadata": {
        "id": "pNmUVOLMZIW9"
      },
      "id": "pNmUVOLMZIW9",
      "execution_count": null,
      "outputs": []
    },
    {
      "cell_type": "markdown",
      "id": "f165fbf9",
      "metadata": {
        "papermill": {
          "duration": 0.023959,
          "end_time": "2023-07-13T21:03:20.191966",
          "exception": false,
          "start_time": "2023-07-13T21:03:20.168007",
          "status": "completed"
        },
        "tags": [],
        "id": "f165fbf9"
      },
      "source": [
        "## **Build model use Random Forest Classifier**"
      ]
    },
    {
      "cell_type": "markdown",
      "source": [
        "I tested 7 machine learning models and the result was that the highest value was for  RandomForestClassifier:\n",
        "\n",
        "| Model | Result\n",
        "|---|---|\n",
        "|LogisticRegression|0.7762%|\n",
        "|RandomForestClassifier| 0.9700%|\n",
        "|SVC |0.8833%|\n",
        "|KNeighborsClassifier|0.9095%|\n",
        "|BaggingClassifier|0.9454%|\n",
        "|GradientBoostingClassifier|0.8838%|\n",
        "|AdaBoostClassifier|0.8656%|\n"
      ],
      "metadata": {
        "id": "H0d5YwknWabZ"
      },
      "id": "H0d5YwknWabZ"
    },
    {
      "cell_type": "markdown",
      "source": [
        "Now we create a Prediction model using the Random Forest Classifier machine learning algorithm, First, what is a Random Forest algorithm A random forest is a supervised machine learning algorithm that can be used for classification and regression tasks. It is a type of ensemble learning method, which means that it combines the predictions of multiple individual models to produce a final prediction.\n",
        "\n",
        "Random forest classifiers work by constructing a multitude of decision trees during training. Each decision tree is trained on a different random subset of the training data, and a random subset of features is considered at each split. This helps to reduce overfitting and improve the generalization performance of the model."
      ],
      "metadata": {
        "id": "DTy-AfEgWA97"
      },
      "id": "DTy-AfEgWA97"
    },
    {
      "cell_type": "code",
      "source": [
        "from sklearn.ensemble import RandomForestClassifier\n",
        "rfc=RandomForestClassifier(random_state=42)\n",
        "rfc.fit(X_train,y_train)\n",
        "#predict x_test values\n",
        "pred=rfc.predict(X_test)\n",
        "#print accuracy for algorithm\n",
        "print(\"Accuracy for Random Forest Classifier data: \",rfc.score(X_test,y_test))"
      ],
      "metadata": {
        "colab": {
          "base_uri": "https://localhost:8080/"
        },
        "id": "fBRll_JgAN_j",
        "outputId": "fdea46d5-b335-4e5b-f3e9-e672654d8305"
      },
      "id": "fBRll_JgAN_j",
      "execution_count": null,
      "outputs": [
        {
          "output_type": "stream",
          "name": "stdout",
          "text": [
            "Accuracy for Random Forest Classifier data:  0.9700323974082073\n"
          ]
        }
      ]
    },
    {
      "cell_type": "markdown",
      "id": "ef6a7809",
      "metadata": {
        "papermill": {
          "duration": 0.022888,
          "end_time": "2023-07-13T21:03:21.420417",
          "exception": false,
          "start_time": "2023-07-13T21:03:21.397529",
          "status": "completed"
        },
        "tags": [],
        "id": "ef6a7809"
      },
      "source": [
        "### **Model Evaluation Metrics**"
      ]
    },
    {
      "cell_type": "markdown",
      "source": [
        " Check the quality of the model using the Loss L2 Function , Classification Report, Confusion Matrix, ROC Curve, and AUC"
      ],
      "metadata": {
        "id": "jIw-fDkLd1wp"
      },
      "id": "jIw-fDkLd1wp"
    },
    {
      "cell_type": "markdown",
      "source": [
        " **Loss L2 Function**"
      ],
      "metadata": {
        "id": "RpMnvyssJkbX"
      },
      "id": "RpMnvyssJkbX"
    },
    {
      "cell_type": "markdown",
      "source": [
        "L1 loss, also known as absolute error loss or mean absolute error (MAE), is a loss function that measures the average absolute difference between the predicted values and the true values. It is calculated as follows:\n",
        "\n",
        "L1 loss = (1/n) * sum(|pred - y_test|)\n",
        "\n"
      ],
      "metadata": {
        "id": "ArrhcJ2MwM6q"
      },
      "id": "ArrhcJ2MwM6q"
    },
    {
      "cell_type": "code",
      "source": [
        "import numpy as np\n",
        "from sklearn.ensemble import RandomForestClassifier\n",
        "\n",
        "def l2_loss(y_test, pred):\n",
        "  \"\"\"Computes the L2 loss between y_test and y_pred.\"\"\"\n",
        "  return np.mean((y_test - pred)**2)\n",
        "\n",
        "clf = RandomForestClassifier(criterion='mse')\n",
        "\n",
        "print(\"loss L2 Function:\",l2_loss(y_test, pred))"
      ],
      "metadata": {
        "colab": {
          "base_uri": "https://localhost:8080/"
        },
        "id": "t-KdjgzVE-lY",
        "outputId": "b1fa66ad-fbba-4561-c077-c8bd95332ed6"
      },
      "id": "t-KdjgzVE-lY",
      "execution_count": null,
      "outputs": [
        {
          "output_type": "stream",
          "name": "stdout",
          "text": [
            "loss L2 Function: 0.029967602591792656\n"
          ]
        }
      ]
    },
    {
      "cell_type": "markdown",
      "source": [
        "**Classification Report**"
      ],
      "metadata": {
        "id": "qPxzIb0zKtmH"
      },
      "id": "qPxzIb0zKtmH"
    },
    {
      "cell_type": "markdown",
      "source": [
        "A classification report is a performance evaluation metric in machine learning that is used to assess the performance of a classification model. It provides a summary of various metrics that describe the model's performance, such as precision, recall, F1-score, and support.\n",
        "\n",
        "Precision is the proportion of positive predictions that are actually correct. It is calculated as follows:\n",
        "Precision = TP / (TP + FP)\n",
        "where:\n",
        "\n",
        "*   TP is the number of true positives\n",
        "*   FP is the number of false positives\n",
        "\n",
        "Recall is the proportion of actual positive cases that are correctly identified. It is calculated as follows:\n",
        "\n",
        "Recall = TP / (TP + FN)\n",
        "where:\n",
        "\n",
        "*  FN is the number of false negatives\n",
        "\n",
        "F1-score is a harmonic mean of precision and recall. It is calculated as follows:\n",
        "\n",
        "F1-score = 2 * (Precision * Recall) / (Precision + Recall)\n",
        "\n",
        "\n",
        "Support is the total number of samples in a class.\n"
      ],
      "metadata": {
        "id": "ED9MVLuEyGnc"
      },
      "id": "ED9MVLuEyGnc"
    },
    {
      "cell_type": "code",
      "execution_count": null,
      "id": "2edf746c",
      "metadata": {
        "execution": {
          "iopub.execute_input": "2023-07-13T21:03:21.468751Z",
          "iopub.status.busy": "2023-07-13T21:03:21.468057Z",
          "iopub.status.idle": "2023-07-13T21:03:21.484316Z",
          "shell.execute_reply": "2023-07-13T21:03:21.483409Z"
        },
        "id": "2edf746c",
        "papermill": {
          "duration": 0.042761,
          "end_time": "2023-07-13T21:03:21.486177",
          "exception": false,
          "start_time": "2023-07-13T21:03:21.443416",
          "status": "completed"
        },
        "tags": [],
        "colab": {
          "base_uri": "https://localhost:8080/"
        },
        "outputId": "659b4e7b-2874-4f22-fb99-08e2600de323"
      },
      "outputs": [
        {
          "output_type": "stream",
          "name": "stdout",
          "text": [
            "              precision    recall  f1-score   support\n",
            "\n",
            "           0       1.00      0.94      0.97      5537\n",
            "           1       0.94      1.00      0.97      5575\n",
            "\n",
            "    accuracy                           0.97     11112\n",
            "   macro avg       0.97      0.97      0.97     11112\n",
            "weighted avg       0.97      0.97      0.97     11112\n",
            "\n"
          ]
        }
      ],
      "source": [
        "#import classification_report\n",
        "from sklearn.metrics import classification_report\n",
        "print(classification_report(y_test,pred))"
      ]
    },
    {
      "cell_type": "markdown",
      "source": [
        "**Confusion Matrix**"
      ],
      "metadata": {
        "id": "1e9iO4FvKFfC"
      },
      "id": "1e9iO4FvKFfC"
    },
    {
      "cell_type": "markdown",
      "source": [
        "A confusion matrix is a table that summarizes the performance of a machine-learning model on a set of test data. It is often used to measure the performance of classification models, which aim to predict a categorical label for each input instance.\n",
        "\n",
        "The confusion matrix displays the number of true positives (TP), true negatives (TN), false positives (FP), and false negatives (FN) produced by the model on the test data"
      ],
      "metadata": {
        "id": "0tOTJZTSzaxX"
      },
      "id": "0tOTJZTSzaxX"
    },
    {
      "cell_type": "code",
      "source": [
        "import matplotlib.pyplot as plt\n",
        "from sklearn.metrics import confusion_matrix, ConfusionMatrixDisplay\n",
        "\n",
        "titles_options = [\n",
        "    (\"Confusion Matrix, Without Normalization\", None),\n",
        "    (\"Normalized Confusion Matrix\", \"true\"),\n",
        "]\n",
        "\n",
        "# Create a ConfusionMatrixDisplay object\n",
        "for title, normalize in titles_options:\n",
        "    disp = ConfusionMatrixDisplay.from_estimator(\n",
        "        rfc,\n",
        "        X_test,\n",
        "        y_test,\n",
        "        cmap=plt.cm.Blues,\n",
        "        normalize=normalize,\n",
        "\n",
        "    )\n",
        "    disp.ax_.set_title(title)\n",
        "\n",
        "\n",
        "\n",
        "# Show the plot\n",
        "plt.show()"
      ],
      "metadata": {
        "id": "FiP3H6OpPblI",
        "colab": {
          "base_uri": "https://localhost:8080/",
          "height": 927
        },
        "outputId": "c1665aee-9513-4098-ebc0-c61f325c051d"
      },
      "id": "FiP3H6OpPblI",
      "execution_count": null,
      "outputs": [
        {
          "output_type": "display_data",
          "data": {
            "text/plain": [
              "<Figure size 640x480 with 2 Axes>"
            ],
            "image/png": "[encoded data removed]"
          },
          "metadata": {}
        },
        {
          "output_type": "display_data",
          "data": {
            "text/plain": [
              "<Figure size 640x480 with 2 Axes>"
            ],
            "image/png": "[encoded data removed]"
          },
          "metadata": {}
        }
      ]
    },
    {
      "cell_type": "markdown",
      "source": [
        "**ROC Curve and AUC**"
      ],
      "metadata": {
        "id": "wE8UAqKoKOEH"
      },
      "id": "wE8UAqKoKOEH"
    },
    {
      "cell_type": "markdown",
      "source": [
        "An ROC curve (receiver operating characteristic curve) is a graph showing the performance of a classification model at all classification thresholds. This curve plots two parameters:\n",
        "\n",
        "*   True Positive Rate\n",
        "\n",
        "*   False Positive Rate\n",
        "\n",
        "AUC stands for \"Area under the ROC Curve.\" That is, AUC measures the entire two-dimensional area underneath the entire ROC curve (think integral calculus) from (0,0) to (1,1).\n",
        "\n"
      ],
      "metadata": {
        "id": "DJEnltM5uKxJ"
      },
      "id": "DJEnltM5uKxJ"
    },
    {
      "cell_type": "code",
      "execution_count": null,
      "id": "c392443c",
      "metadata": {
        "execution": {
          "iopub.execute_input": "2023-07-13T21:03:21.534741Z",
          "iopub.status.busy": "2023-07-13T21:03:21.534047Z",
          "iopub.status.idle": "2023-07-13T21:03:21.759401Z",
          "shell.execute_reply": "2023-07-13T21:03:21.758217Z"
        },
        "id": "c392443c",
        "papermill": {
          "duration": 0.253091,
          "end_time": "2023-07-13T21:03:21.762619",
          "exception": false,
          "start_time": "2023-07-13T21:03:21.509528",
          "status": "completed"
        },
        "scrolled": true,
        "tags": [],
        "colab": {
          "base_uri": "https://localhost:8080/",
          "height": 472
        },
        "outputId": "6c50defc-2983-4567-d020-287cfc599294"
      },
      "outputs": [
        {
          "output_type": "display_data",
          "data": {
            "text/plain": [
              "<Figure size 640x480 with 1 Axes>"
            ],
            "image/png": "[encoded data removed]"
          },
          "metadata": {}
        }
      ],
      "source": [
        "from sklearn.metrics import roc_curve,auc\n",
        "y_pred_proba = rfc.predict_proba(X_test)[:,1]\n",
        "fpr, tpr, thresholds = roc_curve(y_test,pred)\n",
        "auc_rfc = auc(fpr, tpr)\n",
        "plt.plot([0,1],[0,1],'k--')\n",
        "plt.plot(fpr,tpr, label='Random Forest (auc = %0.3f)'% auc_rfc)\n",
        "plt.ylabel('True Positive Rate')\n",
        "plt.xlabel('False Positive Rate')\n",
        "plt.title('Random Forest ROC curve')\n",
        "plt.legend()\n",
        "plt.show()\n"
      ]
    },
    {
      "cell_type": "markdown",
      "id": "43fb015e",
      "metadata": {
        "papermill": {
          "duration": 0.023432,
          "end_time": "2023-07-13T21:03:21.810371",
          "exception": false,
          "start_time": "2023-07-13T21:03:21.786939",
          "status": "completed"
        },
        "tags": [],
        "id": "43fb015e"
      },
      "source": [
        "##**Test the model in test.csv file**"
      ]
    },
    {
      "cell_type": "markdown",
      "id": "6337efab",
      "metadata": {
        "papermill": {
          "duration": 0.024215,
          "end_time": "2023-07-13T21:03:21.858597",
          "exception": false,
          "start_time": "2023-07-13T21:03:21.834382",
          "status": "completed"
        },
        "tags": [],
        "id": "6337efab"
      },
      "source": [
        "Now repeat the steps from training data file to test the data file"
      ]
    },
    {
      "cell_type": "code",
      "execution_count": null,
      "id": "95b103b1",
      "metadata": {
        "execution": {
          "iopub.execute_input": "2023-07-13T21:03:21.909383Z",
          "iopub.status.busy": "2023-07-13T21:03:21.908193Z",
          "iopub.status.idle": "2023-07-13T21:03:21.999518Z",
          "shell.execute_reply": "2023-07-13T21:03:21.998547Z"
        },
        "papermill": {
          "duration": 0.11955,
          "end_time": "2023-07-13T21:03:22.002409",
          "exception": false,
          "start_time": "2023-07-13T21:03:21.882859",
          "status": "completed"
        },
        "tags": [],
        "id": "95b103b1"
      },
      "outputs": [],
      "source": [
        "#load test data file\n",
        "dft=pd.read_csv(\"test.csv\")"
      ]
    },
    {
      "cell_type": "code",
      "execution_count": null,
      "id": "7a49cf3b",
      "metadata": {
        "execution": {
          "iopub.execute_input": "2023-07-13T21:03:22.053320Z",
          "iopub.status.busy": "2023-07-13T21:03:22.052433Z",
          "iopub.status.idle": "2023-07-13T21:03:22.082733Z",
          "shell.execute_reply": "2023-07-13T21:03:22.081828Z"
        },
        "papermill": {
          "duration": 0.058232,
          "end_time": "2023-07-13T21:03:22.085045",
          "exception": false,
          "start_time": "2023-07-13T21:03:22.026813",
          "status": "completed"
        },
        "tags": [],
        "id": "7a49cf3b"
      },
      "outputs": [],
      "source": [
        "dft.copy()\n",
        "month_map = {\n",
        "      \"jan\": \"01\",\n",
        "      \"feb\": \"02\",\n",
        "      \"mar\": \"03\",\n",
        "      \"apr\": \"04\",\n",
        "      \"may\": \"05\",\n",
        "      \"jun\": \"06\",\n",
        "      \"jul\": \"07\",\n",
        "      \"aug\": \"08\",\n",
        "      \"sep\": \"09\",\n",
        "      \"oct\": \"10\",\n",
        "      \"nov\": \"11\",\n",
        "      \"dec\": \"12\"}\n",
        "\n",
        "# Replace month names in the dfFrame with month numbers\n",
        "dft[\"month\"]=dft[\"month\"].replace(month_map)"
      ]
    },
    {
      "cell_type": "code",
      "execution_count": null,
      "id": "963c209f",
      "metadata": {
        "execution": {
          "iopub.execute_input": "2023-07-13T21:03:22.135724Z",
          "iopub.status.busy": "2023-07-13T21:03:22.135039Z",
          "iopub.status.idle": "2023-07-13T21:03:22.149525Z",
          "shell.execute_reply": "2023-07-13T21:03:22.148336Z"
        },
        "papermill": {
          "duration": 0.042452,
          "end_time": "2023-07-13T21:03:22.151815",
          "exception": false,
          "start_time": "2023-07-13T21:03:22.109363",
          "status": "completed"
        },
        "tags": [],
        "id": "963c209f"
      },
      "outputs": [],
      "source": [
        "datat=dft.copy()\n",
        "datat=datat.drop([\"daySinceLastCampaign\",\"lastCampaignResult\",\"target\",\"id\",\"contactId\"], axis=1)"
      ]
    },
    {
      "cell_type": "code",
      "execution_count": null,
      "id": "58e54f18",
      "metadata": {
        "execution": {
          "iopub.execute_input": "2023-07-13T21:03:22.202517Z",
          "iopub.status.busy": "2023-07-13T21:03:22.201630Z",
          "iopub.status.idle": "2023-07-13T21:03:22.207201Z",
          "shell.execute_reply": "2023-07-13T21:03:22.206522Z"
        },
        "papermill": {
          "duration": 0.032567,
          "end_time": "2023-07-13T21:03:22.209109",
          "exception": false,
          "start_time": "2023-07-13T21:03:22.176542",
          "status": "completed"
        },
        "tags": [],
        "id": "58e54f18"
      },
      "outputs": [],
      "source": [
        "datat=datat.copy()\n",
        "catt=datat.select_dtypes(include=[\"object\"])\n",
        "from sklearn.preprocessing import OrdinalEncoder\n",
        "enc=OrdinalEncoder()\n",
        "Catt=enc.fit_transform(catt)\n",
        "catt=pd.DataFrame(Catt,columns=catt.columns)\n",
        "num=datat.select_dtypes(exclude=[\"object\"])\n",
        "datat=pd.concat([num,catt], axis=\"columns\")\n",
        "datat.fillna(datat.mean(),inplace=True)"
      ]
    },
    {
      "cell_type": "code",
      "source": [
        "# Taking the probabilities of the test data\n",
        "test_rfc = rfc.predict_proba(datat)\n",
        "test_predict = test_rfc[:,1]\n",
        "# Stammnummer of the test samples\n",
        "ids_ = dft['id'].values\n",
        "\n",
        "# creating a dataframe, saving the information inside it and save it into a csv file\n",
        "test_Expected = pd.DataFrame(columns=['ID', 'Expected'])\n",
        "test_Expected['ID'] = ids_\n",
        "test_Expected['Expected'] =test_predict\n"
      ],
      "metadata": {
        "id": "SGJbfBp7ptTL",
        "colab": {
          "base_uri": "https://localhost:8080/"
        },
        "outputId": "d590a367-e58b-4a39-f72d-b8a2ed4df1d8"
      },
      "id": "SGJbfBp7ptTL",
      "execution_count": null,
      "outputs": [
        {
          "output_type": "stream",
          "name": "stderr",
          "text": [
            "/usr/local/lib/python3.10/dist-packages/sklearn/base.py:432: UserWarning: X has feature names, but RandomForestClassifier was fitted without feature names\n",
            "  warnings.warn(\n"
          ]
        }
      ]
    },
    {
      "cell_type": "code",
      "execution_count": null,
      "id": "97f373c7",
      "metadata": {
        "execution": {
          "iopub.execute_input": "2023-07-13T21:03:22.500726Z",
          "iopub.status.busy": "2023-07-13T21:03:22.500369Z",
          "iopub.status.idle": "2023-07-13T21:03:22.504232Z",
          "shell.execute_reply": "2023-07-13T21:03:22.503280Z"
        },
        "papermill": {
          "duration": 0.031148,
          "end_time": "2023-07-13T21:03:22.506149",
          "exception": false,
          "start_time": "2023-07-13T21:03:22.475001",
          "status": "completed"
        },
        "tags": [],
        "id": "97f373c7"
      },
      "outputs": [],
      "source": [
        "#save data in csv file without index\n",
        "#Expected=test_Expected.to_csv(\"results.csv\",index=False)\n"
      ]
    }
  ],
  "metadata": {
    "kernelspec": {
      "display_name": "Python 3",
      "name": "python3"
    },
    "language_info": {
      "codemirror_mode": {
        "name": "ipython",
        "version": 3
      },
      "file_extension": ".py",
      "mimetype": "text/x-python",
      "name": "python",
      "nbconvert_exporter": "python",
      "pygments_lexer": "ipython3",
      "version": "3.10.12"
    },
    "papermill": {
      "default_parameters": {},
      "duration": 26.649597,
      "end_time": "2023-07-13T21:03:23.450360",
      "environment_variables": {},
      "exception": null,
      "input_path": "__notebook__.ipynb",
      "output_path": "__notebook__.ipynb",
      "parameters": {},
      "start_time": "2023-07-13T21:02:56.800763",
      "version": "2.4.0"
    },
    "colab": {
      "provenance": []
    }
  },
  "nbformat": 4,
  "nbformat_minor": 5
}